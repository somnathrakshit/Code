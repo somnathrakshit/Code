{
 "cells": [
  {
   "cell_type": "code",
   "execution_count": 1,
   "metadata": {
    "collapsed": true
   },
   "outputs": [],
   "source": [
    "import graphlab"
   ]
  },
  {
   "cell_type": "code",
   "execution_count": 2,
   "metadata": {
    "collapsed": false
   },
   "outputs": [
    {
     "name": "stderr",
     "output_type": "stream",
     "text": [
      "[ERROR] graphlab.connect.main:  ========================================\n",
      "GraphLab Create requires a license to use. To get a trial, non-commercial,  or commercial license, visit https://turi.com/register.\n",
      "=================================================\n",
      "\n"
     ]
    },
    {
     "ename": "InvalidProductKey",
     "evalue": "Product key not found.",
     "output_type": "error",
     "traceback": [
      "\u001b[1;31m---------------------------------------------------------------------------\u001b[0m",
      "\u001b[1;31mInvalidProductKey\u001b[0m                         Traceback (most recent call last)",
      "\u001b[1;32m<ipython-input-2-c5971b60b216>\u001b[0m in \u001b[0;36m<module>\u001b[1;34m()\u001b[0m\n\u001b[1;32m----> 1\u001b[1;33m \u001b[0msales\u001b[0m\u001b[1;33m=\u001b[0m\u001b[0mgraphlab\u001b[0m\u001b[1;33m.\u001b[0m\u001b[0mSFrame\u001b[0m\u001b[1;33m(\u001b[0m\u001b[1;34m'home_data.gl/'\u001b[0m\u001b[1;33m)\u001b[0m\u001b[1;33m\u001b[0m\u001b[0m\n\u001b[0m",
      "\u001b[1;32m/opt/conda/lib/python2.7/site-packages/graphlab/data_structures/sframe.pyc\u001b[0m in \u001b[0;36m__init__\u001b[1;34m(self, data, format, _proxy)\u001b[0m\n\u001b[0;32m    865\u001b[0m             \u001b[0mself\u001b[0m\u001b[1;33m.\u001b[0m\u001b[0m__proxy__\u001b[0m \u001b[1;33m=\u001b[0m \u001b[0m_proxy\u001b[0m\u001b[1;33m\u001b[0m\u001b[0m\n\u001b[0;32m    866\u001b[0m         \u001b[1;32melse\u001b[0m\u001b[1;33m:\u001b[0m\u001b[1;33m\u001b[0m\u001b[0m\n\u001b[1;32m--> 867\u001b[1;33m             \u001b[0mself\u001b[0m\u001b[1;33m.\u001b[0m\u001b[0m__proxy__\u001b[0m \u001b[1;33m=\u001b[0m \u001b[0mUnitySFrameProxy\u001b[0m\u001b[1;33m(\u001b[0m\u001b[0mglconnect\u001b[0m\u001b[1;33m.\u001b[0m\u001b[0mget_client\u001b[0m\u001b[1;33m(\u001b[0m\u001b[1;33m)\u001b[0m\u001b[1;33m)\u001b[0m\u001b[1;33m\u001b[0m\u001b[0m\n\u001b[0m\u001b[0;32m    868\u001b[0m             \u001b[0m_format\u001b[0m \u001b[1;33m=\u001b[0m \u001b[0mNone\u001b[0m\u001b[1;33m\u001b[0m\u001b[0m\n\u001b[0;32m    869\u001b[0m             \u001b[1;32mif\u001b[0m \u001b[1;33m(\u001b[0m\u001b[0mformat\u001b[0m \u001b[1;33m==\u001b[0m \u001b[1;34m'auto'\u001b[0m\u001b[1;33m)\u001b[0m\u001b[1;33m:\u001b[0m\u001b[1;33m\u001b[0m\u001b[0m\n",
      "\u001b[1;32m/opt/conda/lib/python2.7/site-packages/graphlab/connect/main.pyc\u001b[0m in \u001b[0;36mget_client\u001b[1;34m()\u001b[0m\n\u001b[0;32m    138\u001b[0m     \"\"\"\n\u001b[0;32m    139\u001b[0m     \u001b[1;32mif\u001b[0m \u001b[1;32mnot\u001b[0m \u001b[0mis_connected\u001b[0m\u001b[1;33m(\u001b[0m\u001b[1;33m)\u001b[0m\u001b[1;33m:\u001b[0m\u001b[1;33m\u001b[0m\u001b[0m\n\u001b[1;32m--> 140\u001b[1;33m         \u001b[0mlaunch\u001b[0m\u001b[1;33m(\u001b[0m\u001b[1;33m)\u001b[0m\u001b[1;33m\u001b[0m\u001b[0m\n\u001b[0m\u001b[0;32m    141\u001b[0m     \u001b[1;32massert\u001b[0m \u001b[0mis_connected\u001b[0m\u001b[1;33m(\u001b[0m\u001b[1;33m)\u001b[0m\u001b[1;33m,\u001b[0m \u001b[0mENGINE_START_ERROR_MESSAGE\u001b[0m\u001b[1;33m\u001b[0m\u001b[0m\n\u001b[0;32m    142\u001b[0m     \u001b[1;32mreturn\u001b[0m \u001b[0m__CLIENT__\u001b[0m\u001b[1;33m\u001b[0m\u001b[0m\n",
      "\u001b[1;32m/opt/conda/lib/python2.7/site-packages/graphlab/connect/main.pyc\u001b[0m in \u001b[0;36mlaunch\u001b[1;34m(server_addr, server_bin, server_log, auth_token, server_public_key)\u001b[0m\n\u001b[0;32m     90\u001b[0m         \u001b[1;32mif\u001b[0m \u001b[0mserver\u001b[0m\u001b[1;33m:\u001b[0m\u001b[1;33m\u001b[0m\u001b[0m\n\u001b[0;32m     91\u001b[0m             \u001b[0mserver\u001b[0m\u001b[1;33m.\u001b[0m\u001b[0mtry_stop\u001b[0m\u001b[1;33m(\u001b[0m\u001b[1;33m)\u001b[0m\u001b[1;33m\u001b[0m\u001b[0m\n\u001b[1;32m---> 92\u001b[1;33m         \u001b[1;32mraise\u001b[0m \u001b[0me\u001b[0m\u001b[1;33m\u001b[0m\u001b[0m\n\u001b[0m\u001b[0;32m     93\u001b[0m     \u001b[0mserver\u001b[0m\u001b[1;33m.\u001b[0m\u001b[0mset_log_progress\u001b[0m\u001b[1;33m(\u001b[0m\u001b[0mTrue\u001b[0m\u001b[1;33m)\u001b[0m\u001b[1;33m\u001b[0m\u001b[0m\n\u001b[0;32m     94\u001b[0m     \u001b[1;31m# start the client\u001b[0m\u001b[1;33m\u001b[0m\u001b[1;33m\u001b[0m\u001b[0m\n",
      "\u001b[1;31mInvalidProductKey\u001b[0m: Product key not found."
     ]
    }
   ],
   "source": [
    "sales=graphlab.SFrame('home_data.gl/')"
   ]
  },
  {
   "cell_type": "code",
   "execution_count": 3,
   "metadata": {
    "collapsed": true
   },
   "outputs": [],
   "source": [
    "graphlab.product_key.set_product_key('0B0B-1998-CF5E-3BE8-F5DE-7F46-4C70-9D99')"
   ]
  },
  {
   "cell_type": "code",
   "execution_count": 4,
   "metadata": {
    "collapsed": false
   },
   "outputs": [
    {
     "name": "stderr",
     "output_type": "stream",
     "text": [
      "/opt/conda/lib/python2.7/site-packages/requests/packages/urllib3/connection.py:266: SubjectAltNameWarning: Certificate for beta.graphlab.com has no `subjectAltName`, falling back to check for a `commonName` for now. This feature is being removed by major browsers and deprecated by RFC 2818. (See https://github.com/shazow/urllib3/issues/497 for details.)\n",
      "  SubjectAltNameWarning\n",
      "[INFO] graphlab.cython.cy_server: GraphLab Create v2.0.1 started. Logging: /tmp/graphlab_server_1470717377.log\n"
     ]
    },
    {
     "name": "stdout",
     "output_type": "stream",
     "text": [
      "This non-commercial license of GraphLab Create for academic use is assigned to somnath@cse.jgec.ac.in and will expire on August 07, 2017.\n"
     ]
    }
   ],
   "source": [
    "sales=graphlab.SFrame('home_data.gl/')"
   ]
  },
  {
   "cell_type": "code",
   "execution_count": 5,
   "metadata": {
    "collapsed": false
   },
   "outputs": [
    {
     "data": {
      "text/html": [
       "<div style=\"max-height:1000px;max-width:1500px;overflow:auto;\"><table frame=\"box\" rules=\"cols\">\n",
       "    <tr>\n",
       "        <th style=\"padding-left: 1em; padding-right: 1em; text-align: center\">id</th>\n",
       "        <th style=\"padding-left: 1em; padding-right: 1em; text-align: center\">date</th>\n",
       "        <th style=\"padding-left: 1em; padding-right: 1em; text-align: center\">price</th>\n",
       "        <th style=\"padding-left: 1em; padding-right: 1em; text-align: center\">bedrooms</th>\n",
       "        <th style=\"padding-left: 1em; padding-right: 1em; text-align: center\">bathrooms</th>\n",
       "        <th style=\"padding-left: 1em; padding-right: 1em; text-align: center\">sqft_living</th>\n",
       "        <th style=\"padding-left: 1em; padding-right: 1em; text-align: center\">sqft_lot</th>\n",
       "        <th style=\"padding-left: 1em; padding-right: 1em; text-align: center\">floors</th>\n",
       "        <th style=\"padding-left: 1em; padding-right: 1em; text-align: center\">waterfront</th>\n",
       "    </tr>\n",
       "    <tr>\n",
       "        <td style=\"padding-left: 1em; padding-right: 1em; text-align: center; vertical-align: top\">7129300520</td>\n",
       "        <td style=\"padding-left: 1em; padding-right: 1em; text-align: center; vertical-align: top\">2014-10-13 00:00:00+00:00</td>\n",
       "        <td style=\"padding-left: 1em; padding-right: 1em; text-align: center; vertical-align: top\">221900</td>\n",
       "        <td style=\"padding-left: 1em; padding-right: 1em; text-align: center; vertical-align: top\">3</td>\n",
       "        <td style=\"padding-left: 1em; padding-right: 1em; text-align: center; vertical-align: top\">1</td>\n",
       "        <td style=\"padding-left: 1em; padding-right: 1em; text-align: center; vertical-align: top\">1180</td>\n",
       "        <td style=\"padding-left: 1em; padding-right: 1em; text-align: center; vertical-align: top\">5650</td>\n",
       "        <td style=\"padding-left: 1em; padding-right: 1em; text-align: center; vertical-align: top\">1</td>\n",
       "        <td style=\"padding-left: 1em; padding-right: 1em; text-align: center; vertical-align: top\">0</td>\n",
       "    </tr>\n",
       "    <tr>\n",
       "        <td style=\"padding-left: 1em; padding-right: 1em; text-align: center; vertical-align: top\">6414100192</td>\n",
       "        <td style=\"padding-left: 1em; padding-right: 1em; text-align: center; vertical-align: top\">2014-12-09 00:00:00+00:00</td>\n",
       "        <td style=\"padding-left: 1em; padding-right: 1em; text-align: center; vertical-align: top\">538000</td>\n",
       "        <td style=\"padding-left: 1em; padding-right: 1em; text-align: center; vertical-align: top\">3</td>\n",
       "        <td style=\"padding-left: 1em; padding-right: 1em; text-align: center; vertical-align: top\">2.25</td>\n",
       "        <td style=\"padding-left: 1em; padding-right: 1em; text-align: center; vertical-align: top\">2570</td>\n",
       "        <td style=\"padding-left: 1em; padding-right: 1em; text-align: center; vertical-align: top\">7242</td>\n",
       "        <td style=\"padding-left: 1em; padding-right: 1em; text-align: center; vertical-align: top\">2</td>\n",
       "        <td style=\"padding-left: 1em; padding-right: 1em; text-align: center; vertical-align: top\">0</td>\n",
       "    </tr>\n",
       "    <tr>\n",
       "        <td style=\"padding-left: 1em; padding-right: 1em; text-align: center; vertical-align: top\">5631500400</td>\n",
       "        <td style=\"padding-left: 1em; padding-right: 1em; text-align: center; vertical-align: top\">2015-02-25 00:00:00+00:00</td>\n",
       "        <td style=\"padding-left: 1em; padding-right: 1em; text-align: center; vertical-align: top\">180000</td>\n",
       "        <td style=\"padding-left: 1em; padding-right: 1em; text-align: center; vertical-align: top\">2</td>\n",
       "        <td style=\"padding-left: 1em; padding-right: 1em; text-align: center; vertical-align: top\">1</td>\n",
       "        <td style=\"padding-left: 1em; padding-right: 1em; text-align: center; vertical-align: top\">770</td>\n",
       "        <td style=\"padding-left: 1em; padding-right: 1em; text-align: center; vertical-align: top\">10000</td>\n",
       "        <td style=\"padding-left: 1em; padding-right: 1em; text-align: center; vertical-align: top\">1</td>\n",
       "        <td style=\"padding-left: 1em; padding-right: 1em; text-align: center; vertical-align: top\">0</td>\n",
       "    </tr>\n",
       "    <tr>\n",
       "        <td style=\"padding-left: 1em; padding-right: 1em; text-align: center; vertical-align: top\">2487200875</td>\n",
       "        <td style=\"padding-left: 1em; padding-right: 1em; text-align: center; vertical-align: top\">2014-12-09 00:00:00+00:00</td>\n",
       "        <td style=\"padding-left: 1em; padding-right: 1em; text-align: center; vertical-align: top\">604000</td>\n",
       "        <td style=\"padding-left: 1em; padding-right: 1em; text-align: center; vertical-align: top\">4</td>\n",
       "        <td style=\"padding-left: 1em; padding-right: 1em; text-align: center; vertical-align: top\">3</td>\n",
       "        <td style=\"padding-left: 1em; padding-right: 1em; text-align: center; vertical-align: top\">1960</td>\n",
       "        <td style=\"padding-left: 1em; padding-right: 1em; text-align: center; vertical-align: top\">5000</td>\n",
       "        <td style=\"padding-left: 1em; padding-right: 1em; text-align: center; vertical-align: top\">1</td>\n",
       "        <td style=\"padding-left: 1em; padding-right: 1em; text-align: center; vertical-align: top\">0</td>\n",
       "    </tr>\n",
       "    <tr>\n",
       "        <td style=\"padding-left: 1em; padding-right: 1em; text-align: center; vertical-align: top\">1954400510</td>\n",
       "        <td style=\"padding-left: 1em; padding-right: 1em; text-align: center; vertical-align: top\">2015-02-18 00:00:00+00:00</td>\n",
       "        <td style=\"padding-left: 1em; padding-right: 1em; text-align: center; vertical-align: top\">510000</td>\n",
       "        <td style=\"padding-left: 1em; padding-right: 1em; text-align: center; vertical-align: top\">3</td>\n",
       "        <td style=\"padding-left: 1em; padding-right: 1em; text-align: center; vertical-align: top\">2</td>\n",
       "        <td style=\"padding-left: 1em; padding-right: 1em; text-align: center; vertical-align: top\">1680</td>\n",
       "        <td style=\"padding-left: 1em; padding-right: 1em; text-align: center; vertical-align: top\">8080</td>\n",
       "        <td style=\"padding-left: 1em; padding-right: 1em; text-align: center; vertical-align: top\">1</td>\n",
       "        <td style=\"padding-left: 1em; padding-right: 1em; text-align: center; vertical-align: top\">0</td>\n",
       "    </tr>\n",
       "    <tr>\n",
       "        <td style=\"padding-left: 1em; padding-right: 1em; text-align: center; vertical-align: top\">7237550310</td>\n",
       "        <td style=\"padding-left: 1em; padding-right: 1em; text-align: center; vertical-align: top\">2014-05-12 00:00:00+00:00</td>\n",
       "        <td style=\"padding-left: 1em; padding-right: 1em; text-align: center; vertical-align: top\">1225000</td>\n",
       "        <td style=\"padding-left: 1em; padding-right: 1em; text-align: center; vertical-align: top\">4</td>\n",
       "        <td style=\"padding-left: 1em; padding-right: 1em; text-align: center; vertical-align: top\">4.5</td>\n",
       "        <td style=\"padding-left: 1em; padding-right: 1em; text-align: center; vertical-align: top\">5420</td>\n",
       "        <td style=\"padding-left: 1em; padding-right: 1em; text-align: center; vertical-align: top\">101930</td>\n",
       "        <td style=\"padding-left: 1em; padding-right: 1em; text-align: center; vertical-align: top\">1</td>\n",
       "        <td style=\"padding-left: 1em; padding-right: 1em; text-align: center; vertical-align: top\">0</td>\n",
       "    </tr>\n",
       "    <tr>\n",
       "        <td style=\"padding-left: 1em; padding-right: 1em; text-align: center; vertical-align: top\">1321400060</td>\n",
       "        <td style=\"padding-left: 1em; padding-right: 1em; text-align: center; vertical-align: top\">2014-06-27 00:00:00+00:00</td>\n",
       "        <td style=\"padding-left: 1em; padding-right: 1em; text-align: center; vertical-align: top\">257500</td>\n",
       "        <td style=\"padding-left: 1em; padding-right: 1em; text-align: center; vertical-align: top\">3</td>\n",
       "        <td style=\"padding-left: 1em; padding-right: 1em; text-align: center; vertical-align: top\">2.25</td>\n",
       "        <td style=\"padding-left: 1em; padding-right: 1em; text-align: center; vertical-align: top\">1715</td>\n",
       "        <td style=\"padding-left: 1em; padding-right: 1em; text-align: center; vertical-align: top\">6819</td>\n",
       "        <td style=\"padding-left: 1em; padding-right: 1em; text-align: center; vertical-align: top\">2</td>\n",
       "        <td style=\"padding-left: 1em; padding-right: 1em; text-align: center; vertical-align: top\">0</td>\n",
       "    </tr>\n",
       "    <tr>\n",
       "        <td style=\"padding-left: 1em; padding-right: 1em; text-align: center; vertical-align: top\">2008000270</td>\n",
       "        <td style=\"padding-left: 1em; padding-right: 1em; text-align: center; vertical-align: top\">2015-01-15 00:00:00+00:00</td>\n",
       "        <td style=\"padding-left: 1em; padding-right: 1em; text-align: center; vertical-align: top\">291850</td>\n",
       "        <td style=\"padding-left: 1em; padding-right: 1em; text-align: center; vertical-align: top\">3</td>\n",
       "        <td style=\"padding-left: 1em; padding-right: 1em; text-align: center; vertical-align: top\">1.5</td>\n",
       "        <td style=\"padding-left: 1em; padding-right: 1em; text-align: center; vertical-align: top\">1060</td>\n",
       "        <td style=\"padding-left: 1em; padding-right: 1em; text-align: center; vertical-align: top\">9711</td>\n",
       "        <td style=\"padding-left: 1em; padding-right: 1em; text-align: center; vertical-align: top\">1</td>\n",
       "        <td style=\"padding-left: 1em; padding-right: 1em; text-align: center; vertical-align: top\">0</td>\n",
       "    </tr>\n",
       "    <tr>\n",
       "        <td style=\"padding-left: 1em; padding-right: 1em; text-align: center; vertical-align: top\">2414600126</td>\n",
       "        <td style=\"padding-left: 1em; padding-right: 1em; text-align: center; vertical-align: top\">2015-04-15 00:00:00+00:00</td>\n",
       "        <td style=\"padding-left: 1em; padding-right: 1em; text-align: center; vertical-align: top\">229500</td>\n",
       "        <td style=\"padding-left: 1em; padding-right: 1em; text-align: center; vertical-align: top\">3</td>\n",
       "        <td style=\"padding-left: 1em; padding-right: 1em; text-align: center; vertical-align: top\">1</td>\n",
       "        <td style=\"padding-left: 1em; padding-right: 1em; text-align: center; vertical-align: top\">1780</td>\n",
       "        <td style=\"padding-left: 1em; padding-right: 1em; text-align: center; vertical-align: top\">7470</td>\n",
       "        <td style=\"padding-left: 1em; padding-right: 1em; text-align: center; vertical-align: top\">1</td>\n",
       "        <td style=\"padding-left: 1em; padding-right: 1em; text-align: center; vertical-align: top\">0</td>\n",
       "    </tr>\n",
       "    <tr>\n",
       "        <td style=\"padding-left: 1em; padding-right: 1em; text-align: center; vertical-align: top\">3793500160</td>\n",
       "        <td style=\"padding-left: 1em; padding-right: 1em; text-align: center; vertical-align: top\">2015-03-12 00:00:00+00:00</td>\n",
       "        <td style=\"padding-left: 1em; padding-right: 1em; text-align: center; vertical-align: top\">323000</td>\n",
       "        <td style=\"padding-left: 1em; padding-right: 1em; text-align: center; vertical-align: top\">3</td>\n",
       "        <td style=\"padding-left: 1em; padding-right: 1em; text-align: center; vertical-align: top\">2.5</td>\n",
       "        <td style=\"padding-left: 1em; padding-right: 1em; text-align: center; vertical-align: top\">1890</td>\n",
       "        <td style=\"padding-left: 1em; padding-right: 1em; text-align: center; vertical-align: top\">6560</td>\n",
       "        <td style=\"padding-left: 1em; padding-right: 1em; text-align: center; vertical-align: top\">2</td>\n",
       "        <td style=\"padding-left: 1em; padding-right: 1em; text-align: center; vertical-align: top\">0</td>\n",
       "    </tr>\n",
       "</table>\n",
       "<table frame=\"box\" rules=\"cols\">\n",
       "    <tr>\n",
       "        <th style=\"padding-left: 1em; padding-right: 1em; text-align: center\">view</th>\n",
       "        <th style=\"padding-left: 1em; padding-right: 1em; text-align: center\">condition</th>\n",
       "        <th style=\"padding-left: 1em; padding-right: 1em; text-align: center\">grade</th>\n",
       "        <th style=\"padding-left: 1em; padding-right: 1em; text-align: center\">sqft_above</th>\n",
       "        <th style=\"padding-left: 1em; padding-right: 1em; text-align: center\">sqft_basement</th>\n",
       "        <th style=\"padding-left: 1em; padding-right: 1em; text-align: center\">yr_built</th>\n",
       "        <th style=\"padding-left: 1em; padding-right: 1em; text-align: center\">yr_renovated</th>\n",
       "        <th style=\"padding-left: 1em; padding-right: 1em; text-align: center\">zipcode</th>\n",
       "        <th style=\"padding-left: 1em; padding-right: 1em; text-align: center\">lat</th>\n",
       "    </tr>\n",
       "    <tr>\n",
       "        <td style=\"padding-left: 1em; padding-right: 1em; text-align: center; vertical-align: top\">0</td>\n",
       "        <td style=\"padding-left: 1em; padding-right: 1em; text-align: center; vertical-align: top\">3</td>\n",
       "        <td style=\"padding-left: 1em; padding-right: 1em; text-align: center; vertical-align: top\">7</td>\n",
       "        <td style=\"padding-left: 1em; padding-right: 1em; text-align: center; vertical-align: top\">1180</td>\n",
       "        <td style=\"padding-left: 1em; padding-right: 1em; text-align: center; vertical-align: top\">0</td>\n",
       "        <td style=\"padding-left: 1em; padding-right: 1em; text-align: center; vertical-align: top\">1955</td>\n",
       "        <td style=\"padding-left: 1em; padding-right: 1em; text-align: center; vertical-align: top\">0</td>\n",
       "        <td style=\"padding-left: 1em; padding-right: 1em; text-align: center; vertical-align: top\">98178</td>\n",
       "        <td style=\"padding-left: 1em; padding-right: 1em; text-align: center; vertical-align: top\">47.51123398</td>\n",
       "    </tr>\n",
       "    <tr>\n",
       "        <td style=\"padding-left: 1em; padding-right: 1em; text-align: center; vertical-align: top\">0</td>\n",
       "        <td style=\"padding-left: 1em; padding-right: 1em; text-align: center; vertical-align: top\">3</td>\n",
       "        <td style=\"padding-left: 1em; padding-right: 1em; text-align: center; vertical-align: top\">7</td>\n",
       "        <td style=\"padding-left: 1em; padding-right: 1em; text-align: center; vertical-align: top\">2170</td>\n",
       "        <td style=\"padding-left: 1em; padding-right: 1em; text-align: center; vertical-align: top\">400</td>\n",
       "        <td style=\"padding-left: 1em; padding-right: 1em; text-align: center; vertical-align: top\">1951</td>\n",
       "        <td style=\"padding-left: 1em; padding-right: 1em; text-align: center; vertical-align: top\">1991</td>\n",
       "        <td style=\"padding-left: 1em; padding-right: 1em; text-align: center; vertical-align: top\">98125</td>\n",
       "        <td style=\"padding-left: 1em; padding-right: 1em; text-align: center; vertical-align: top\">47.72102274</td>\n",
       "    </tr>\n",
       "    <tr>\n",
       "        <td style=\"padding-left: 1em; padding-right: 1em; text-align: center; vertical-align: top\">0</td>\n",
       "        <td style=\"padding-left: 1em; padding-right: 1em; text-align: center; vertical-align: top\">3</td>\n",
       "        <td style=\"padding-left: 1em; padding-right: 1em; text-align: center; vertical-align: top\">6</td>\n",
       "        <td style=\"padding-left: 1em; padding-right: 1em; text-align: center; vertical-align: top\">770</td>\n",
       "        <td style=\"padding-left: 1em; padding-right: 1em; text-align: center; vertical-align: top\">0</td>\n",
       "        <td style=\"padding-left: 1em; padding-right: 1em; text-align: center; vertical-align: top\">1933</td>\n",
       "        <td style=\"padding-left: 1em; padding-right: 1em; text-align: center; vertical-align: top\">0</td>\n",
       "        <td style=\"padding-left: 1em; padding-right: 1em; text-align: center; vertical-align: top\">98028</td>\n",
       "        <td style=\"padding-left: 1em; padding-right: 1em; text-align: center; vertical-align: top\">47.73792661</td>\n",
       "    </tr>\n",
       "    <tr>\n",
       "        <td style=\"padding-left: 1em; padding-right: 1em; text-align: center; vertical-align: top\">0</td>\n",
       "        <td style=\"padding-left: 1em; padding-right: 1em; text-align: center; vertical-align: top\">5</td>\n",
       "        <td style=\"padding-left: 1em; padding-right: 1em; text-align: center; vertical-align: top\">7</td>\n",
       "        <td style=\"padding-left: 1em; padding-right: 1em; text-align: center; vertical-align: top\">1050</td>\n",
       "        <td style=\"padding-left: 1em; padding-right: 1em; text-align: center; vertical-align: top\">910</td>\n",
       "        <td style=\"padding-left: 1em; padding-right: 1em; text-align: center; vertical-align: top\">1965</td>\n",
       "        <td style=\"padding-left: 1em; padding-right: 1em; text-align: center; vertical-align: top\">0</td>\n",
       "        <td style=\"padding-left: 1em; padding-right: 1em; text-align: center; vertical-align: top\">98136</td>\n",
       "        <td style=\"padding-left: 1em; padding-right: 1em; text-align: center; vertical-align: top\">47.52082</td>\n",
       "    </tr>\n",
       "    <tr>\n",
       "        <td style=\"padding-left: 1em; padding-right: 1em; text-align: center; vertical-align: top\">0</td>\n",
       "        <td style=\"padding-left: 1em; padding-right: 1em; text-align: center; vertical-align: top\">3</td>\n",
       "        <td style=\"padding-left: 1em; padding-right: 1em; text-align: center; vertical-align: top\">8</td>\n",
       "        <td style=\"padding-left: 1em; padding-right: 1em; text-align: center; vertical-align: top\">1680</td>\n",
       "        <td style=\"padding-left: 1em; padding-right: 1em; text-align: center; vertical-align: top\">0</td>\n",
       "        <td style=\"padding-left: 1em; padding-right: 1em; text-align: center; vertical-align: top\">1987</td>\n",
       "        <td style=\"padding-left: 1em; padding-right: 1em; text-align: center; vertical-align: top\">0</td>\n",
       "        <td style=\"padding-left: 1em; padding-right: 1em; text-align: center; vertical-align: top\">98074</td>\n",
       "        <td style=\"padding-left: 1em; padding-right: 1em; text-align: center; vertical-align: top\">47.61681228</td>\n",
       "    </tr>\n",
       "    <tr>\n",
       "        <td style=\"padding-left: 1em; padding-right: 1em; text-align: center; vertical-align: top\">0</td>\n",
       "        <td style=\"padding-left: 1em; padding-right: 1em; text-align: center; vertical-align: top\">3</td>\n",
       "        <td style=\"padding-left: 1em; padding-right: 1em; text-align: center; vertical-align: top\">11</td>\n",
       "        <td style=\"padding-left: 1em; padding-right: 1em; text-align: center; vertical-align: top\">3890</td>\n",
       "        <td style=\"padding-left: 1em; padding-right: 1em; text-align: center; vertical-align: top\">1530</td>\n",
       "        <td style=\"padding-left: 1em; padding-right: 1em; text-align: center; vertical-align: top\">2001</td>\n",
       "        <td style=\"padding-left: 1em; padding-right: 1em; text-align: center; vertical-align: top\">0</td>\n",
       "        <td style=\"padding-left: 1em; padding-right: 1em; text-align: center; vertical-align: top\">98053</td>\n",
       "        <td style=\"padding-left: 1em; padding-right: 1em; text-align: center; vertical-align: top\">47.65611835</td>\n",
       "    </tr>\n",
       "    <tr>\n",
       "        <td style=\"padding-left: 1em; padding-right: 1em; text-align: center; vertical-align: top\">0</td>\n",
       "        <td style=\"padding-left: 1em; padding-right: 1em; text-align: center; vertical-align: top\">3</td>\n",
       "        <td style=\"padding-left: 1em; padding-right: 1em; text-align: center; vertical-align: top\">7</td>\n",
       "        <td style=\"padding-left: 1em; padding-right: 1em; text-align: center; vertical-align: top\">1715</td>\n",
       "        <td style=\"padding-left: 1em; padding-right: 1em; text-align: center; vertical-align: top\">0</td>\n",
       "        <td style=\"padding-left: 1em; padding-right: 1em; text-align: center; vertical-align: top\">1995</td>\n",
       "        <td style=\"padding-left: 1em; padding-right: 1em; text-align: center; vertical-align: top\">0</td>\n",
       "        <td style=\"padding-left: 1em; padding-right: 1em; text-align: center; vertical-align: top\">98003</td>\n",
       "        <td style=\"padding-left: 1em; padding-right: 1em; text-align: center; vertical-align: top\">47.30972002</td>\n",
       "    </tr>\n",
       "    <tr>\n",
       "        <td style=\"padding-left: 1em; padding-right: 1em; text-align: center; vertical-align: top\">0</td>\n",
       "        <td style=\"padding-left: 1em; padding-right: 1em; text-align: center; vertical-align: top\">3</td>\n",
       "        <td style=\"padding-left: 1em; padding-right: 1em; text-align: center; vertical-align: top\">7</td>\n",
       "        <td style=\"padding-left: 1em; padding-right: 1em; text-align: center; vertical-align: top\">1060</td>\n",
       "        <td style=\"padding-left: 1em; padding-right: 1em; text-align: center; vertical-align: top\">0</td>\n",
       "        <td style=\"padding-left: 1em; padding-right: 1em; text-align: center; vertical-align: top\">1963</td>\n",
       "        <td style=\"padding-left: 1em; padding-right: 1em; text-align: center; vertical-align: top\">0</td>\n",
       "        <td style=\"padding-left: 1em; padding-right: 1em; text-align: center; vertical-align: top\">98198</td>\n",
       "        <td style=\"padding-left: 1em; padding-right: 1em; text-align: center; vertical-align: top\">47.40949984</td>\n",
       "    </tr>\n",
       "    <tr>\n",
       "        <td style=\"padding-left: 1em; padding-right: 1em; text-align: center; vertical-align: top\">0</td>\n",
       "        <td style=\"padding-left: 1em; padding-right: 1em; text-align: center; vertical-align: top\">3</td>\n",
       "        <td style=\"padding-left: 1em; padding-right: 1em; text-align: center; vertical-align: top\">7</td>\n",
       "        <td style=\"padding-left: 1em; padding-right: 1em; text-align: center; vertical-align: top\">1050</td>\n",
       "        <td style=\"padding-left: 1em; padding-right: 1em; text-align: center; vertical-align: top\">730</td>\n",
       "        <td style=\"padding-left: 1em; padding-right: 1em; text-align: center; vertical-align: top\">1960</td>\n",
       "        <td style=\"padding-left: 1em; padding-right: 1em; text-align: center; vertical-align: top\">0</td>\n",
       "        <td style=\"padding-left: 1em; padding-right: 1em; text-align: center; vertical-align: top\">98146</td>\n",
       "        <td style=\"padding-left: 1em; padding-right: 1em; text-align: center; vertical-align: top\">47.51229381</td>\n",
       "    </tr>\n",
       "    <tr>\n",
       "        <td style=\"padding-left: 1em; padding-right: 1em; text-align: center; vertical-align: top\">0</td>\n",
       "        <td style=\"padding-left: 1em; padding-right: 1em; text-align: center; vertical-align: top\">3</td>\n",
       "        <td style=\"padding-left: 1em; padding-right: 1em; text-align: center; vertical-align: top\">7</td>\n",
       "        <td style=\"padding-left: 1em; padding-right: 1em; text-align: center; vertical-align: top\">1890</td>\n",
       "        <td style=\"padding-left: 1em; padding-right: 1em; text-align: center; vertical-align: top\">0</td>\n",
       "        <td style=\"padding-left: 1em; padding-right: 1em; text-align: center; vertical-align: top\">2003</td>\n",
       "        <td style=\"padding-left: 1em; padding-right: 1em; text-align: center; vertical-align: top\">0</td>\n",
       "        <td style=\"padding-left: 1em; padding-right: 1em; text-align: center; vertical-align: top\">98038</td>\n",
       "        <td style=\"padding-left: 1em; padding-right: 1em; text-align: center; vertical-align: top\">47.36840673</td>\n",
       "    </tr>\n",
       "</table>\n",
       "<table frame=\"box\" rules=\"cols\">\n",
       "    <tr>\n",
       "        <th style=\"padding-left: 1em; padding-right: 1em; text-align: center\">long</th>\n",
       "        <th style=\"padding-left: 1em; padding-right: 1em; text-align: center\">sqft_living15</th>\n",
       "        <th style=\"padding-left: 1em; padding-right: 1em; text-align: center\">sqft_lot15</th>\n",
       "    </tr>\n",
       "    <tr>\n",
       "        <td style=\"padding-left: 1em; padding-right: 1em; text-align: center; vertical-align: top\">-122.25677536</td>\n",
       "        <td style=\"padding-left: 1em; padding-right: 1em; text-align: center; vertical-align: top\">1340.0</td>\n",
       "        <td style=\"padding-left: 1em; padding-right: 1em; text-align: center; vertical-align: top\">5650.0</td>\n",
       "    </tr>\n",
       "    <tr>\n",
       "        <td style=\"padding-left: 1em; padding-right: 1em; text-align: center; vertical-align: top\">-122.3188624</td>\n",
       "        <td style=\"padding-left: 1em; padding-right: 1em; text-align: center; vertical-align: top\">1690.0</td>\n",
       "        <td style=\"padding-left: 1em; padding-right: 1em; text-align: center; vertical-align: top\">7639.0</td>\n",
       "    </tr>\n",
       "    <tr>\n",
       "        <td style=\"padding-left: 1em; padding-right: 1em; text-align: center; vertical-align: top\">-122.23319601</td>\n",
       "        <td style=\"padding-left: 1em; padding-right: 1em; text-align: center; vertical-align: top\">2720.0</td>\n",
       "        <td style=\"padding-left: 1em; padding-right: 1em; text-align: center; vertical-align: top\">8062.0</td>\n",
       "    </tr>\n",
       "    <tr>\n",
       "        <td style=\"padding-left: 1em; padding-right: 1em; text-align: center; vertical-align: top\">-122.39318505</td>\n",
       "        <td style=\"padding-left: 1em; padding-right: 1em; text-align: center; vertical-align: top\">1360.0</td>\n",
       "        <td style=\"padding-left: 1em; padding-right: 1em; text-align: center; vertical-align: top\">5000.0</td>\n",
       "    </tr>\n",
       "    <tr>\n",
       "        <td style=\"padding-left: 1em; padding-right: 1em; text-align: center; vertical-align: top\">-122.04490059</td>\n",
       "        <td style=\"padding-left: 1em; padding-right: 1em; text-align: center; vertical-align: top\">1800.0</td>\n",
       "        <td style=\"padding-left: 1em; padding-right: 1em; text-align: center; vertical-align: top\">7503.0</td>\n",
       "    </tr>\n",
       "    <tr>\n",
       "        <td style=\"padding-left: 1em; padding-right: 1em; text-align: center; vertical-align: top\">-122.00528655</td>\n",
       "        <td style=\"padding-left: 1em; padding-right: 1em; text-align: center; vertical-align: top\">4760.0</td>\n",
       "        <td style=\"padding-left: 1em; padding-right: 1em; text-align: center; vertical-align: top\">101930.0</td>\n",
       "    </tr>\n",
       "    <tr>\n",
       "        <td style=\"padding-left: 1em; padding-right: 1em; text-align: center; vertical-align: top\">-122.32704857</td>\n",
       "        <td style=\"padding-left: 1em; padding-right: 1em; text-align: center; vertical-align: top\">2238.0</td>\n",
       "        <td style=\"padding-left: 1em; padding-right: 1em; text-align: center; vertical-align: top\">6819.0</td>\n",
       "    </tr>\n",
       "    <tr>\n",
       "        <td style=\"padding-left: 1em; padding-right: 1em; text-align: center; vertical-align: top\">-122.31457273</td>\n",
       "        <td style=\"padding-left: 1em; padding-right: 1em; text-align: center; vertical-align: top\">1650.0</td>\n",
       "        <td style=\"padding-left: 1em; padding-right: 1em; text-align: center; vertical-align: top\">9711.0</td>\n",
       "    </tr>\n",
       "    <tr>\n",
       "        <td style=\"padding-left: 1em; padding-right: 1em; text-align: center; vertical-align: top\">-122.33659507</td>\n",
       "        <td style=\"padding-left: 1em; padding-right: 1em; text-align: center; vertical-align: top\">1780.0</td>\n",
       "        <td style=\"padding-left: 1em; padding-right: 1em; text-align: center; vertical-align: top\">8113.0</td>\n",
       "    </tr>\n",
       "    <tr>\n",
       "        <td style=\"padding-left: 1em; padding-right: 1em; text-align: center; vertical-align: top\">-122.0308176</td>\n",
       "        <td style=\"padding-left: 1em; padding-right: 1em; text-align: center; vertical-align: top\">2390.0</td>\n",
       "        <td style=\"padding-left: 1em; padding-right: 1em; text-align: center; vertical-align: top\">7570.0</td>\n",
       "    </tr>\n",
       "</table>\n",
       "[21613 rows x 21 columns]<br/>Note: Only the head of the SFrame is printed.<br/>You can use print_rows(num_rows=m, num_columns=n) to print more rows and columns.\n",
       "</div>"
      ],
      "text/plain": [
       "Columns:\n",
       "\tid\tstr\n",
       "\tdate\tdatetime\n",
       "\tprice\tint\n",
       "\tbedrooms\tstr\n",
       "\tbathrooms\tstr\n",
       "\tsqft_living\tint\n",
       "\tsqft_lot\tint\n",
       "\tfloors\tstr\n",
       "\twaterfront\tint\n",
       "\tview\tint\n",
       "\tcondition\tint\n",
       "\tgrade\tint\n",
       "\tsqft_above\tint\n",
       "\tsqft_basement\tint\n",
       "\tyr_built\tint\n",
       "\tyr_renovated\tint\n",
       "\tzipcode\tstr\n",
       "\tlat\tfloat\n",
       "\tlong\tfloat\n",
       "\tsqft_living15\tfloat\n",
       "\tsqft_lot15\tfloat\n",
       "\n",
       "Rows: 21613\n",
       "\n",
       "Data:\n",
       "+------------+---------------------------+---------+----------+-----------+-------------+\n",
       "|     id     |            date           |  price  | bedrooms | bathrooms | sqft_living |\n",
       "+------------+---------------------------+---------+----------+-----------+-------------+\n",
       "| 7129300520 | 2014-10-13 00:00:00+00:00 |  221900 |    3     |     1     |     1180    |\n",
       "| 6414100192 | 2014-12-09 00:00:00+00:00 |  538000 |    3     |    2.25   |     2570    |\n",
       "| 5631500400 | 2015-02-25 00:00:00+00:00 |  180000 |    2     |     1     |     770     |\n",
       "| 2487200875 | 2014-12-09 00:00:00+00:00 |  604000 |    4     |     3     |     1960    |\n",
       "| 1954400510 | 2015-02-18 00:00:00+00:00 |  510000 |    3     |     2     |     1680    |\n",
       "| 7237550310 | 2014-05-12 00:00:00+00:00 | 1225000 |    4     |    4.5    |     5420    |\n",
       "| 1321400060 | 2014-06-27 00:00:00+00:00 |  257500 |    3     |    2.25   |     1715    |\n",
       "| 2008000270 | 2015-01-15 00:00:00+00:00 |  291850 |    3     |    1.5    |     1060    |\n",
       "| 2414600126 | 2015-04-15 00:00:00+00:00 |  229500 |    3     |     1     |     1780    |\n",
       "| 3793500160 | 2015-03-12 00:00:00+00:00 |  323000 |    3     |    2.5    |     1890    |\n",
       "+------------+---------------------------+---------+----------+-----------+-------------+\n",
       "+----------+--------+------------+------+-----------+-------+------------+---------------+\n",
       "| sqft_lot | floors | waterfront | view | condition | grade | sqft_above | sqft_basement |\n",
       "+----------+--------+------------+------+-----------+-------+------------+---------------+\n",
       "|   5650   |   1    |     0      |  0   |     3     |   7   |    1180    |       0       |\n",
       "|   7242   |   2    |     0      |  0   |     3     |   7   |    2170    |      400      |\n",
       "|  10000   |   1    |     0      |  0   |     3     |   6   |    770     |       0       |\n",
       "|   5000   |   1    |     0      |  0   |     5     |   7   |    1050    |      910      |\n",
       "|   8080   |   1    |     0      |  0   |     3     |   8   |    1680    |       0       |\n",
       "|  101930  |   1    |     0      |  0   |     3     |   11  |    3890    |      1530     |\n",
       "|   6819   |   2    |     0      |  0   |     3     |   7   |    1715    |       0       |\n",
       "|   9711   |   1    |     0      |  0   |     3     |   7   |    1060    |       0       |\n",
       "|   7470   |   1    |     0      |  0   |     3     |   7   |    1050    |      730      |\n",
       "|   6560   |   2    |     0      |  0   |     3     |   7   |    1890    |       0       |\n",
       "+----------+--------+------------+------+-----------+-------+------------+---------------+\n",
       "+----------+--------------+---------+-------------+---------------+---------------+-----+\n",
       "| yr_built | yr_renovated | zipcode |     lat     |      long     | sqft_living15 | ... |\n",
       "+----------+--------------+---------+-------------+---------------+---------------+-----+\n",
       "|   1955   |      0       |  98178  | 47.51123398 | -122.25677536 |     1340.0    | ... |\n",
       "|   1951   |     1991     |  98125  | 47.72102274 |  -122.3188624 |     1690.0    | ... |\n",
       "|   1933   |      0       |  98028  | 47.73792661 | -122.23319601 |     2720.0    | ... |\n",
       "|   1965   |      0       |  98136  |   47.52082  | -122.39318505 |     1360.0    | ... |\n",
       "|   1987   |      0       |  98074  | 47.61681228 | -122.04490059 |     1800.0    | ... |\n",
       "|   2001   |      0       |  98053  | 47.65611835 | -122.00528655 |     4760.0    | ... |\n",
       "|   1995   |      0       |  98003  | 47.30972002 | -122.32704857 |     2238.0    | ... |\n",
       "|   1963   |      0       |  98198  | 47.40949984 | -122.31457273 |     1650.0    | ... |\n",
       "|   1960   |      0       |  98146  | 47.51229381 | -122.33659507 |     1780.0    | ... |\n",
       "|   2003   |      0       |  98038  | 47.36840673 |  -122.0308176 |     2390.0    | ... |\n",
       "+----------+--------------+---------+-------------+---------------+---------------+-----+\n",
       "[21613 rows x 21 columns]\n",
       "Note: Only the head of the SFrame is printed.\n",
       "You can use print_rows(num_rows=m, num_columns=n) to print more rows and columns."
      ]
     },
     "execution_count": 5,
     "metadata": {},
     "output_type": "execute_result"
    }
   ],
   "source": [
    "sales"
   ]
  },
  {
   "cell_type": "code",
   "execution_count": 6,
   "metadata": {
    "collapsed": false
   },
   "outputs": [
    {
     "name": "stdout",
     "output_type": "stream",
     "text": [
      "Canvas is accessible via web browser at the URL: http://localhost:38969/index.html\n",
      "Opening Canvas in default web browser.\n"
     ]
    }
   ],
   "source": [
    "sales.show(view='Scatter Plot',x='sqft_living',y='price')"
   ]
  },
  {
   "cell_type": "code",
   "execution_count": 7,
   "metadata": {
    "collapsed": true
   },
   "outputs": [],
   "source": [
    "graphlab.canvas.set_target('ipynb')"
   ]
  },
  {
   "cell_type": "code",
   "execution_count": 8,
   "metadata": {
    "collapsed": false
   },
   "outputs": [
    {
     "data": {
      "application/javascript": [
       "$(\"head\").append($(\"<link/>\").attr({\n",
       "  rel:  \"stylesheet\",\n",
       "  type: \"text/css\",\n",
       "  href: \"//cdnjs.cloudflare.com/ajax/libs/font-awesome/4.1.0/css/font-awesome.min.css\"\n",
       "}));\n",
       "$(\"head\").append($(\"<link/>\").attr({\n",
       "  rel:  \"stylesheet\",\n",
       "  type: \"text/css\",\n",
       "  href: \"https://static.turi.com/products/graphlab-create/2.0.1/canvas/css/canvas.css\"\n",
       "}));\n",
       "\n",
       "            (function(){\n",
       "\n",
       "                var e = null;\n",
       "                if (typeof element == 'undefined') {\n",
       "                    var scripts = document.getElementsByTagName('script');\n",
       "                    var thisScriptTag = scripts[scripts.length-1];\n",
       "                    var parentDiv = thisScriptTag.parentNode;\n",
       "                    e = document.createElement('div');\n",
       "                    parentDiv.appendChild(e);\n",
       "                } else {\n",
       "                    e = element[0];\n",
       "                }\n",
       "\n",
       "                if (typeof requirejs !== 'undefined') {\n",
       "                    // disable load timeout; ipython_app.js is large and can take a while to load.\n",
       "                    requirejs.config({waitSeconds: 0});\n",
       "                }\n",
       "\n",
       "                require(['https://static.turi.com/products/graphlab-create/2.0.1/canvas/js/ipython_app.js'], function(IPythonApp){\n",
       "                    var app = new IPythonApp();\n",
       "                    app.attachView('sframe','Plots', {\"selected_variable\": {\"name\": [\"sales\"], \"descriptives\": {\"rows\": 21613, \"columns\": 21}, \"view_component\": \"Plots\", \"view_file\": \"sframe\", \"view_params\": {\"y\": \"price\", \"x\": \"sqft_living\", \"columns\": [\"id\", \"date\", \"price\", \"bedrooms\", \"bathrooms\", \"sqft_living\", \"sqft_lot\", \"floors\", \"waterfront\", \"view\", \"condition\", \"grade\", \"sqft_above\", \"sqft_basement\", \"yr_built\", \"yr_renovated\", \"zipcode\", \"lat\", \"long\", \"sqft_living15\", \"sqft_lot15\"], \"view\": \"Scatter Plot\"}, \"view_components\": [\"Summary\", \"Table\", \"Bar Chart\", \"BoxWhisker Plot\", \"Line Chart\", \"Scatter Plot\", \"Heat Map\", \"Plots\"], \"type\": \"SFrame\", \"columns\": [{\"dtype\": \"str\", \"name\": \"id\"}, {\"dtype\": \"datetime\", \"name\": \"date\"}, {\"dtype\": \"int\", \"name\": \"price\"}, {\"dtype\": \"str\", \"name\": \"bedrooms\"}, {\"dtype\": \"str\", \"name\": \"bathrooms\"}, {\"dtype\": \"int\", \"name\": \"sqft_living\"}, {\"dtype\": \"int\", \"name\": \"sqft_lot\"}, {\"dtype\": \"str\", \"name\": \"floors\"}, {\"dtype\": \"int\", \"name\": \"waterfront\"}, {\"dtype\": \"int\", \"name\": \"view\"}, {\"dtype\": \"int\", \"name\": \"condition\"}, {\"dtype\": \"int\", \"name\": \"grade\"}, {\"dtype\": \"int\", \"name\": \"sqft_above\"}, {\"dtype\": \"int\", \"name\": \"sqft_basement\"}, {\"dtype\": \"int\", \"name\": \"yr_built\"}, {\"dtype\": \"int\", \"name\": \"yr_renovated\"}, {\"dtype\": \"str\", \"name\": \"zipcode\"}, {\"dtype\": \"float\", \"name\": \"lat\"}, {\"dtype\": \"float\", \"name\": \"long\"}, {\"dtype\": \"float\", \"name\": \"sqft_living15\"}, {\"dtype\": \"float\", \"name\": \"sqft_lot15\"}], \"column_identifiers\": [\"bathrooms\", \"sqft_living15\", \"sqft_above\", \"grade\", \"yr_built\", \"price\", \"bedrooms\", \"zipcode\", \"long\", \"id\", \"sqft_lot15\", \"sqft_living\", \"floors\", \"sqft_lot\", \"date\", \"waterfront\", \"sqft_basement\", \"yr_renovated\", \"lat\", \"condition\", \"view\"]}, \"complete\": 1, \"ipython\": true, \"progress\": 1.0, \"data\": [[1690, 544500], [2810, 290000], [2201, 397000], [1960, 604000], [3810, 900000], [2140, 350000], [1715, 257500], [1050, 220000], [2520, 250000], [1870, 554000], [900, 325000], [2400, 585000], [1800, 408474], [3070, 350000], [2890, 508000], [2290, 540000], [2540, 775000], [1200, 370900], [2070, 300000], [1890, 267300], [2480, 470000], [2980, 574000], [2670, 410000], [1510, 340768], [2450, 329000], [1010, 470450], [2460, 357000], [1600, 690000], [1690, 457000], [2110, 716125], [1230, 415000], [3250, 562000], [1330, 475000], [2420, 1010000], [1910, 293000], [2310, 510000], [1830, 220000], [1660, 368000], [1890, 320000], [1650, 465000], [4620, 1459000], [1600, 265000], [1770, 712500], [3500, 840000], [2120, 507000], [1440, 375000], [2120, 530000], [2480, 455000], [2080, 352800], [2560, 390000], [770, 252500], [1770, 415000], [3480, 480000], [1220, 555950], [1300, 175000], [2020, 575000], [2070, 501000], [3710, 1250000], [1830, 339000], [1690, 265000], [2570, 492500], [3070, 725786], [2060, 462000], [2430, 402000], [3030, 700000], [3020, 670000], [1330, 527700], [2110, 802000], [1200, 185000], [2030, 335000], [970, 165000], [1120, 365000], [610, 126000], [1120, 266000], [1650, 359000], [3220, 534950], [2060, 348000], [3270, 1033888], [1790, 670950], [1160, 415000], [2300, 453500], [1900, 360000], [3310, 829000], [2730, 500000], [2020, 390000], [1790, 243000], [3100, 1600000], [1660, 460000], [2550, 595000], [1780, 285000], [1760, 715000], [1870, 340000], [2950, 615000], [2250, 319450], [2750, 725000], [2500, 350000], [1400, 373000], [1800, 509007], [1180, 195000], [2780, 1250000], [3056, 524225], [2600, 628000], [4170, 1200000], [880, 255000], [2090, 289000], [990, 600000], [2690, 333000], [1530, 375500], [2200, 290000], [5760, 2880500], [3490, 449950], [2810, 739000], [1920, 391500], [1980, 418000], [1640, 300000], [2300, 520000], [1560, 539950], [2910, 765000], [3810, 920000], [2880, 920000], [2400, 660000], [1760, 500000], [3350, 1200000], [2560, 585000], [1680, 526000], [3170, 919950], [1990, 575000], [1380, 549900], [1730, 226450], [1140, 550000], [3260, 1050000], [1660, 610000], [1200, 250000], [1640, 772000], [1460, 330000], [1360, 273500], [2800, 255000], [1630, 291600], [1190, 382500], [1810, 400000], [2140, 349950], [3560, 435000], [2790, 751000], [1360, 248500], [2620, 672000], [1670, 451000], [1830, 532000], [2100, 429000], [1600, 995000], [2790, 505657], [1270, 440000], [3070, 753000], [1200, 186000], [2410, 485000], [1430, 305000], [1260, 375000], [1210, 173250], [2640, 320000], [1250, 452000], [1870, 832500], [1220, 287500], [1360, 560000], [1600, 488000], [1910, 441000], [2620, 850000], [2080, 594000], [1300, 300000], [3500, 790000], [2490, 535000], [3900, 780000], [1870, 572000], [2400, 570000], [2180, 230000], [1400, 430100], [1270, 280000], [1790, 263000], [2700, 385000], [4150, 1175000], [2260, 440000], [2590, 576000], [1520, 171000], [2140, 675000], [2050, 545000], [1010, 147500], [1400, 295000], [1420, 349950], [790, 425000], [2460, 600000], [910, 455000], [1930, 733000], [1950, 540000], [1070, 224400], [1380, 230000], [3070, 825000], [2650, 731500], [1610, 438750], [2810, 742000], [4970, 1436000], [1580, 260000], [1350, 385000], [1413, 286800], [1120, 345000], [4090, 1680000], [1580, 525000], [4040, 2271150], [4170, 1450000], [1520, 470000], [2660, 605000], [4570, 1060000], [3580, 765000], [1690, 462500], [1270, 625504], [2070, 280927], [1590, 556000], [2540, 655000], [1850, 277000], [2260, 479950], [1560, 181000], [1410, 399500], [1120, 227000], [2480, 620000], [3020, 354000], [2150, 392500], [1910, 615000], [3170, 505000], [2790, 815000], [1840, 490000], [2100, 580000], [2250, 600000], [1340, 303000], [1970, 289000], [2280, 500000], [1690, 410000], [4660, 1280000], [1490, 445000], [2400, 635000], [2370, 545000], [1600, 154950], [1450, 382000], [3750, 920000], [1430, 225000], [2010, 605000], [2700, 515000], [1050, 630000], [1030, 480000], [940, 259250], [1970, 575000], [1640, 350000], [1590, 259000], [2050, 724800], [3040, 620000], [2690, 346290], [1990, 569000], [2750, 840000], [1640, 245700], [1430, 198000], [1920, 443000], [1660, 315000], [1480, 511200], [2820, 875000], [1580, 557510], [2230, 448000], [2820, 934000], [1610, 450000], [4110, 1875000], [1700, 290000], [1230, 435000], [1070, 415000], [2070, 272500], [2320, 299000], [1050, 400000], [1390, 354000], [2730, 510000], [1390, 341000], [3240, 609000], [2460, 790000], [1570, 635000], [2610, 810000], [1620, 439000], [1850, 495000], [2710, 865000], [4360, 1289990], [1560, 592000], [2980, 367500], [1360, 515000], [1660, 261000], [980, 215000], [2170, 340000], [1220, 500000], [1530, 546000], [1930, 390000], [1490, 490000], [1230, 550000], [1800, 632750], [1460, 340000], [3360, 879000], [3910, 1650000], [2120, 582000], [2030, 404000], [1370, 405000], [2900, 799950], [1560, 494400], [4660, 2147500], [1580, 558000], [2310, 785000], [2780, 870000], [4920, 1408762], [2510, 557500], [2830, 605500], [1050, 650000], [2260, 833000], [1660, 201000], [1190, 312000], [2320, 449950], [830, 299000], [2090, 424950], [3240, 870000], [1930, 390000], [2070, 310000], [2190, 353000], [3290, 648000], [2030, 520000], [2340, 572000], [1080, 315000], [1890, 473000], [2210, 250000], [3030, 274975], [1120, 320000], [1940, 505000], [1490, 604000], [2850, 1535000], [1350, 450000], [2502, 453000], [2660, 523000], [1680, 225000], [3250, 530000], [1120, 554000], [1510, 791500], [1000, 417200], [1250, 449000], [4090, 640000], [2050, 256000], [2500, 425000], [2350, 870300], [2290, 390000], [1580, 195000], [1450, 405000], [1350, 251000], [4330, 3168750], [3020, 622000], [1450, 450000], [1830, 550000], [3640, 895900], [1790, 392000], [3880, 1060000], [1810, 799000], [2400, 280000], [1520, 385000], [3140, 409000], [1370, 797000], [1720, 498000], [2940, 435000], [2360, 480000], [1600, 495000], [960, 406000], [980, 499950], [1570, 263000], [1200, 210000], [3400, 815000], [1140, 330000], [1140, 294570], [2280, 653675], [1150, 287000], [2150, 378000], [1580, 265000], [3230, 730000], [1840, 778000], [2440, 749500], [710, 402000], [2070, 775000], [2260, 600000], [1780, 261000], [2160, 383000], [2340, 505000], [2800, 650000], [3420, 692500], [1450, 276000], [1460, 405000], [2250, 280000], [2830, 533000], [2000, 725000], [2810, 999000], [3273, 485000], [1430, 221000], [1150, 339000], [2050, 360000], [2190, 808000], [1660, 220000], [1140, 549000], [1580, 214000], [2220, 615000], [1280, 520000], [1960, 300000], [1310, 299800], [1820, 322500], [3310, 1250000], [1430, 375000], [1630, 425000], [600, 156000], [1200, 178000], [1920, 240000], [800, 110000], [3740, 1080000], [3440, 616000], [1100, 157500], [1590, 225000], [1240, 185000], [2710, 710000], [900, 400000], [1600, 670000], [1390, 270000], [1320, 500000], [1720, 449000], [2690, 530000], [1490, 225000], [1200, 280000], [1330, 339950], [1660, 405000], [1440, 275000], [1340, 255000], [3830, 1250000], [1470, 401000], [3540, 925000], [3510, 1255000], [2180, 275000], [3670, 525000], [900, 329000], [2050, 540000], [1320, 209000], [3530, 963000], [2220, 585000], [2430, 825000], [2890, 515000], [1160, 230000], [5120, 1550000], [1340, 199950], [1320, 185000], [4310, 1200000], [2340, 475000], [2780, 594866], [2280, 433000], [2130, 725000], [1690, 318000], [1340, 225000], [980, 575000], [2740, 779000], [1420, 550000], [790, 399000], [2040, 555000], [1140, 235000], [1280, 687500], [1300, 287000], [3370, 713900], [2390, 359500], [4610, 750000], [2300, 683000], [1370, 530000], [2610, 1000000], [1090, 180000], [1300, 230000], [2930, 718000], [2070, 470000], [1380, 350000], [2050, 540000], [2620, 597500], [3640, 630000], [880, 550000], [1870, 575000], [2280, 665000], [970, 515000], [1800, 655000], [2080, 480000], [2830, 1035292], [1330, 405000], [1250, 350000], [2580, 355000], [960, 215000], [1350, 275000], [2810, 699900], [910, 239900], [1740, 270000], [1680, 370000], [1250, 164808], [3220, 579000], [2020, 320000], [2490, 520000], [1950, 412000], [1470, 430000], [2890, 416000], [1660, 559000], [3600, 760000], [1690, 460000], [1480, 398000], [1790, 455000], [2130, 350000], [4120, 1851000], [2690, 721000], [1310, 290000], [1570, 792000], [2430, 658100], [1160, 262500], [1410, 279800], [1020, 385000], [1880, 617000], [1180, 194000], [1230, 380000], [3490, 728000], [1150, 425000], [1520, 310000], [2100, 800000], [1620, 415000], [2680, 1028950], [1740, 275000], [2470, 565000], [1640, 716100], [3580, 1406888], [2810, 745000], [1570, 349950], [2070, 535000], [1710, 515000], [1410, 226740], [1460, 239950], [1310, 237950], [1730, 313100], [2050, 394950], [2200, 414950], [1190, 299000], [2240, 600000], [3620, 2230000], [2390, 978000], [1550, 255000], [1840, 540000], [2810, 531155], [2750, 535000], [1090, 345000], [1360, 350000], [1070, 259950], [1070, 259950], [1440, 604000], [4930, 1465000], [2180, 705000], [1360, 640000], [3180, 340000], [2050, 305000], [810, 255000], [3440, 495000], [1740, 395000], [1090, 140000], [2220, 652500], [2050, 331500], [1340, 309500], [1530, 265000], [2440, 689000], [1970, 396000], [1260, 335000], [1630, 280000], [3940, 1450000], [920, 156000], [3830, 887000], [1760, 269950], [1830, 338900], [2580, 400000], [1960, 355000], [2150, 741500], [910, 165000], [1840, 350000], [2820, 318000], [6050, 930000], [1470, 420000], [1150, 227000], [2190, 524000], [3320, 410000], [1080, 265000], [2920, 555000], [2420, 375000], [3990, 2720000], [3440, 1345000], [1520, 500000], [1360, 553650], [1970, 435000], [930, 500000], [2630, 270000], [1380, 408000], [2070, 560000], [1840, 360000], [980, 329900], [1860, 443000], [1600, 408000], [3740, 660000], [2710, 600000], [2570, 254500], [2380, 590000], [1370, 377500], [1670, 678000], [1700, 456000], [1580, 400000], [1830, 467500], [1810, 268643], [1300, 515000], [2026, 358000], [1300, 595000], [2160, 849000], [1870, 245000], [2700, 950000], [1390, 225000], [1980, 524000], [1490, 525000], [1770, 324950], [4230, 1940000], [2240, 279900], [1920, 260000], [2580, 340000], [1340, 530000], [1760, 605000], [1670, 565000], [2250, 445000], [2150, 435000], [2570, 519000], [2550, 406250], [1820, 365000], [2070, 410000], [2450, 1550000], [3560, 616950], [1350, 571000], [3600, 870515], [1280, 215000], [3010, 615000], [900, 465000], [2680, 390000], [1210, 610000], [1300, 398000], [1540, 442500], [1860, 314950], [2700, 725000], [2660, 625000], [2790, 599000], [1900, 470000], [1320, 530000], [1690, 419990], [1820, 227490], [3500, 865000], [1131, 394950], [2030, 440000], [1270, 435010], [1470, 337000], [1800, 205000], [1200, 260000], [2150, 580000], [2770, 748000], [2240, 260000], [900, 263300], [1020, 235000], [1620, 250000], [2540, 620000], [1800, 344500], [1360, 479950], [2800, 379900], [1760, 287500], [980, 260000], [3160, 1250000], [7350, 1110000], [1510, 629000], [2580, 673000], [1800, 865000], [2100, 375000], [1190, 300500], [1540, 272500], [4300, 1130000], [720, 329350], [1330, 209000], [1100, 428750], [1660, 420000], [670, 190000], [1530, 469775], [2290, 840500], [1260, 485000], [1560, 552500], [1890, 462000], [1400, 639000], [2930, 645000], [1640, 505000], [1840, 274950], [1140, 262500], [2280, 749700], [1340, 635000], [1880, 560000], [1780, 350000], [3370, 813000], [2100, 720000], [2240, 980000], [1840, 686000], [2550, 394000], [1920, 430000], [1320, 464000], [2860, 720000], [3380, 751000], [1530, 400000], [1790, 585000], [3440, 430000], [5640, 1999950], [6630, 1240000], [1450, 243000], [3340, 655000], [1550, 349900], [1950, 325000], [1000, 225000], [3000, 607500], [1810, 760000], [1720, 550000], [2030, 295450], [1850, 218000], [2040, 825000], [1480, 425000], [1646, 305000], [2480, 1200000], [2130, 285000], [1220, 483000], [2460, 485000], [3720, 875000], [2290, 660000], [1830, 336500], [1360, 159000], [1820, 276000], [1280, 443000], [2156, 347500], [4920, 850000], [1440, 225500], [2620, 683000], [1870, 432000], [1530, 387000], [2730, 510000], [1930, 321500], [720, 151000], [4240, 2187730], [2770, 492000], [1741, 479000], [2980, 949000], [870, 240000], [2730, 769900], [1050, 400000], [1820, 515000], [1610, 270000], [1580, 406000], [4460, 739500], [2090, 285000], [3060, 415000], [1610, 292500], [2030, 556300], [3340, 485000], [3510, 1250000], [1440, 327200], [720, 338500], [2790, 485000], [1480, 450000], [2450, 345000], [2480, 780000], [1670, 204700], [1650, 273000], [1440, 252000], [1680, 412500], [2040, 325900], [1570, 209950], [3810, 1700000], [2320, 555000], [2050, 245000], [2440, 631625], [1010, 308000], [3370, 2300000], [2310, 815000], [2350, 635000], [1240, 375000], [3030, 879000], [2300, 420000], [1350, 595000], [2440, 720000], [5584, 1680000], [1870, 375000], [1080, 228500], [2120, 332000], [3820, 1274950], [1830, 312000], [2810, 675000], [1390, 306500], [1180, 249000], [1760, 352950], [1420, 460000], [1180, 372500], [1590, 346000], [1620, 330000], [780, 250000], [3140, 765000], [870, 217000], [2830, 569000], [1300, 315500], [2430, 940000], [1760, 220000], [1080, 805000], [2230, 585000], [1720, 675000], [2720, 455950], [1050, 310000], [2980, 817250], [1700, 712000], [2700, 390000], [2620, 321500], [2330, 639500], [2170, 435000], [1400, 303000], [2350, 850000], [2140, 603500], [2110, 585000], [1360, 279900], [2450, 682000], [2300, 294000], [1980, 299000], [1900, 450000], [2010, 825000], [1470, 638000], [1310, 320000], [2180, 490000], [2590, 485000], [2760, 1185000], [4200, 1335000], [3080, 560000], [1170, 512000], [1210, 299900], [1320, 300000], [1330, 225000], [1780, 800500], [2410, 620000], [1710, 675000], [1010, 290000], [2280, 721000], [1640, 365000], [2160, 1200000], [1470, 325000], [2980, 565000], [1630, 425000], [1880, 509950], [3320, 802500], [910, 169000], [2120, 397950], [1660, 225000], [1340, 525000], [1250, 225000], [1290, 300000], [3000, 397000], [2980, 450000], [2890, 898500], [1720, 256900], [2120, 765000], [3540, 888550], [2330, 372000], [3580, 616500], [1160, 555000], [1980, 703300], [2020, 555000], [1950, 500000], [4200, 850000], [1820, 365000], [2580, 358000], [1460, 1010000], [1820, 480000], [3850, 925000], [2110, 925000], [3060, 970000], [1360, 442000], [3520, 905000], [2070, 741000], [3120, 953007], [2710, 600000], [3090, 734000], [1780, 406500], [1660, 530000], [1250, 712000], [980, 595000], [2960, 875000], [1010, 429000], [2990, 1110000], [2800, 490000], [1600, 285000], [3950, 914500], [2210, 432900], [3680, 935000], [2740, 699000], [1110, 625000], [2665, 340000], [1084, 265000], [1730, 328423], [1380, 543115], [1700, 331500], [2660, 423000], [780, 370000], [1010, 200000], [2093, 300000], [2450, 399950], [1480, 350000], [1650, 234975], [1740, 299950], [5330, 1125000], [2020, 640000], [5290, 1690000], [1600, 287000], [3150, 580135], [1630, 260000], [2070, 645000], [1270, 605000], [2660, 1100000], [1820, 725000], [1540, 357500], [1000, 610000], [640, 279200], [1310, 255000], [2650, 705000], [2150, 755000], [1750, 325000], [2680, 525000], [1610, 735000], [1340, 345950], [1290, 460000], [4740, 1349000], [3555, 895990], [1260, 300000], [2980, 1625000], [2220, 370000], [1030, 326000], [900, 550000], [2040, 506000], [2020, 253000], [1980, 306000], [1320, 410000], [1930, 432500], [2210, 950000], [3320, 962000], [3320, 813000], [2460, 276000], [1750, 360000], [3240, 1199500], [1970, 1175000], [1580, 542300], [2280, 280000], [3569, 580000], [1670, 612125], [3410, 2600000], [2070, 289950], [2820, 297975], [2890, 978000], [720, 205000], [2980, 352000], [2250, 975000], [2550, 460000], [2300, 453000], [1880, 315000], [1880, 333000], [2480, 540000], [1960, 280000], [2300, 610000], [2150, 368250], [1160, 284900], [2330, 325000], [2100, 295000], [1560, 525000], [1450, 460000], [2420, 399500], [1240, 374950], [1170, 209977], [2610, 824500], [1320, 420000], [2120, 800000], [2370, 603000], [1080, 345000], [1150, 285000], [1440, 245000], [2670, 612000], [3060, 650000], [4130, 1135000], [3730, 979700], [790, 245500], [2160, 756000], [1340, 260000], [3890, 772500], [1960, 310000], [2660, 589000], [2980, 575000], [1050, 325000], [1570, 265000], [1590, 199950], [1420, 225000], [3120, 653000], [1800, 495000]], \"columns\": [{\"dtype\": \"str\", \"name\": \"id\"}, {\"dtype\": \"datetime\", \"name\": \"date\"}, {\"dtype\": \"int\", \"name\": \"price\"}, {\"dtype\": \"str\", \"name\": \"bedrooms\"}, {\"dtype\": \"str\", \"name\": \"bathrooms\"}, {\"dtype\": \"int\", \"name\": \"sqft_living\"}, {\"dtype\": \"int\", \"name\": \"sqft_lot\"}, {\"dtype\": \"str\", \"name\": \"floors\"}, {\"dtype\": \"int\", \"name\": \"waterfront\"}, {\"dtype\": \"int\", \"name\": \"view\"}, {\"dtype\": \"int\", \"name\": \"condition\"}, {\"dtype\": \"int\", \"name\": \"grade\"}, {\"dtype\": \"int\", \"name\": \"sqft_above\"}, {\"dtype\": \"int\", \"name\": \"sqft_basement\"}, {\"dtype\": \"int\", \"name\": \"yr_built\"}, {\"dtype\": \"int\", \"name\": \"yr_renovated\"}, {\"dtype\": \"str\", \"name\": \"zipcode\"}, {\"dtype\": \"float\", \"name\": \"lat\"}, {\"dtype\": \"float\", \"name\": \"long\"}, {\"dtype\": \"float\", \"name\": \"sqft_living15\"}, {\"dtype\": \"float\", \"name\": \"sqft_lot15\"}]}, e);\n",
       "                });\n",
       "            })();\n",
       "        "
      ]
     },
     "metadata": {},
     "output_type": "display_data"
    }
   ],
   "source": [
    "sales.show(view='Scatter Plot',x='sqft_living',y='price')"
   ]
  },
  {
   "cell_type": "code",
   "execution_count": 9,
   "metadata": {
    "collapsed": false
   },
   "outputs": [
    {
     "data": {
      "application/javascript": [
       "$(\"head\").append($(\"<link/>\").attr({\n",
       "  rel:  \"stylesheet\",\n",
       "  type: \"text/css\",\n",
       "  href: \"//cdnjs.cloudflare.com/ajax/libs/font-awesome/4.1.0/css/font-awesome.min.css\"\n",
       "}));\n",
       "$(\"head\").append($(\"<link/>\").attr({\n",
       "  rel:  \"stylesheet\",\n",
       "  type: \"text/css\",\n",
       "  href: \"https://static.turi.com/products/graphlab-create/2.0.1/canvas/css/canvas.css\"\n",
       "}));\n",
       "\n",
       "            (function(){\n",
       "\n",
       "                var e = null;\n",
       "                if (typeof element == 'undefined') {\n",
       "                    var scripts = document.getElementsByTagName('script');\n",
       "                    var thisScriptTag = scripts[scripts.length-1];\n",
       "                    var parentDiv = thisScriptTag.parentNode;\n",
       "                    e = document.createElement('div');\n",
       "                    parentDiv.appendChild(e);\n",
       "                } else {\n",
       "                    e = element[0];\n",
       "                }\n",
       "\n",
       "                if (typeof requirejs !== 'undefined') {\n",
       "                    // disable load timeout; ipython_app.js is large and can take a while to load.\n",
       "                    requirejs.config({waitSeconds: 0});\n",
       "                }\n",
       "\n",
       "                require(['https://static.turi.com/products/graphlab-create/2.0.1/canvas/js/ipython_app.js'], function(IPythonApp){\n",
       "                    var app = new IPythonApp();\n",
       "                    app.attachView('sframe','Plots', {\"selected_variable\": {\"name\": [\"sales\"], \"descriptives\": {\"rows\": 21613, \"columns\": 21}, \"view_component\": \"Plots\", \"view_file\": \"sframe\", \"view_params\": {\"y\": \"price\", \"x\": \"sqft_living\", \"columns\": [\"id\", \"date\", \"price\", \"bedrooms\", \"bathrooms\", \"sqft_living\", \"sqft_lot\", \"floors\", \"waterfront\", \"view\", \"condition\", \"grade\", \"sqft_above\", \"sqft_basement\", \"yr_built\", \"yr_renovated\", \"zipcode\", \"lat\", \"long\", \"sqft_living15\", \"sqft_lot15\"], \"view\": \"Scatter Plot\"}, \"view_components\": [\"Summary\", \"Table\", \"Bar Chart\", \"BoxWhisker Plot\", \"Line Chart\", \"Scatter Plot\", \"Heat Map\", \"Plots\"], \"type\": \"SFrame\", \"columns\": [{\"dtype\": \"str\", \"name\": \"id\"}, {\"dtype\": \"datetime\", \"name\": \"date\"}, {\"dtype\": \"int\", \"name\": \"price\"}, {\"dtype\": \"str\", \"name\": \"bedrooms\"}, {\"dtype\": \"str\", \"name\": \"bathrooms\"}, {\"dtype\": \"int\", \"name\": \"sqft_living\"}, {\"dtype\": \"int\", \"name\": \"sqft_lot\"}, {\"dtype\": \"str\", \"name\": \"floors\"}, {\"dtype\": \"int\", \"name\": \"waterfront\"}, {\"dtype\": \"int\", \"name\": \"view\"}, {\"dtype\": \"int\", \"name\": \"condition\"}, {\"dtype\": \"int\", \"name\": \"grade\"}, {\"dtype\": \"int\", \"name\": \"sqft_above\"}, {\"dtype\": \"int\", \"name\": \"sqft_basement\"}, {\"dtype\": \"int\", \"name\": \"yr_built\"}, {\"dtype\": \"int\", \"name\": \"yr_renovated\"}, {\"dtype\": \"str\", \"name\": \"zipcode\"}, {\"dtype\": \"float\", \"name\": \"lat\"}, {\"dtype\": \"float\", \"name\": \"long\"}, {\"dtype\": \"float\", \"name\": \"sqft_living15\"}, {\"dtype\": \"float\", \"name\": \"sqft_lot15\"}], \"column_identifiers\": [\"bathrooms\", \"sqft_living15\", \"sqft_above\", \"grade\", \"yr_built\", \"price\", \"bedrooms\", \"zipcode\", \"long\", \"id\", \"sqft_lot15\", \"sqft_living\", \"floors\", \"sqft_lot\", \"date\", \"waterfront\", \"sqft_basement\", \"yr_renovated\", \"lat\", \"condition\", \"view\"]}, \"complete\": 1, \"ipython\": true, \"progress\": 1.0, \"data\": [[1540, 350000], [1780, 279000], [1870, 325000], [1830, 470000], [3040, 776000], [1830, 593000], [2210, 625000], [1530, 570000], [2090, 449000], [2300, 635000], [1070, 350000], [1100, 229900], [1490, 835000], [1850, 277000], [1810, 530000], [3700, 415000], [2040, 265000], [3680, 770000], [1540, 550000], [2730, 575000], [1480, 511200], [1220, 165000], [4090, 885000], [3950, 771150], [1250, 385000], [1400, 310000], [1770, 630000], [2750, 730000], [2360, 615000], [770, 378510], [1130, 460000], [1780, 175000], [3680, 722080], [1530, 245000], [3990, 825000], [2230, 1035000], [1510, 402000], [1440, 421200], [1220, 240000], [1690, 295000], [1880, 306000], [2080, 495000], [2930, 429300], [3340, 1328000], [5540, 2575000], [1100, 361000], [2910, 515000], [1780, 325000], [2130, 649990], [1990, 564800], [1820, 330000], [1740, 325000], [2020, 490000], [2980, 1012000], [1900, 450000], [2240, 510000], [2480, 450000], [2000, 570000], [1020, 303000], [2340, 330000], [2340, 645000], [1360, 329950], [1470, 264950], [3560, 790000], [2240, 831000], [1730, 250000], [1390, 608000], [3400, 865000], [2820, 960000], [2700, 420000], [1350, 430000], [1020, 485000], [2163, 248000], [2680, 698000], [1790, 349000], [3430, 832500], [1440, 440000], [2610, 2000000], [1650, 445000], [1200, 504200], [1050, 474000], [1940, 635000], [2020, 355000], [2550, 345000], [1850, 470000], [2800, 677790], [2060, 432000], [2450, 620000], [2800, 550000], [1050, 430000], [2050, 375000], [1260, 120000], [1200, 153000], [830, 150000], [3730, 979700], [1180, 600000], [1250, 293550], [1490, 520000], [1040, 361000], [1010, 306888], [2490, 608000], [2430, 723000], [1320, 445800], [1580, 690000], [3130, 652500], [2080, 500000], [2070, 337500], [1980, 380000], [2630, 497000], [2620, 360000], [3820, 830000], [810, 285000], [1960, 759000], [3820, 611000], [1530, 269000], [900, 275000], [1470, 551000], [1140, 199000], [2110, 825000], [2890, 795000], [2840, 790000], [820, 150000], [770, 395000], [1390, 530000], [1210, 239000], [1560, 273500], [3040, 700000], [2450, 605000], [1710, 305000], [1610, 305000], [1780, 500000], [1780, 639950], [1540, 395000], [4370, 473000], [4460, 1800000], [1530, 257500], [1220, 500000], [2260, 925000], [1880, 751750], [3110, 925000], [3200, 580000], [1390, 657100], [860, 199988], [840, 96500], [2430, 381500], [5990, 1525000], [1280, 545000], [2420, 430000], [2200, 525000], [2300, 263850], [2770, 1080000], [1470, 344950], [840, 199950], [2260, 628000], [1670, 550000], [1270, 440000], [3150, 681716], [1940, 299000], [1650, 495000], [2060, 440000], [2130, 392000], [2050, 528000], [1200, 478000], [1880, 452000], [1720, 500000], [3130, 1010000], [2560, 385000], [4620, 1459000], [2680, 653000], [1640, 250000], [2400, 592000], [2500, 587500], [4590, 3000000], [1060, 320000], [2760, 465000], [2130, 530000], [1140, 345000], [1990, 345000], [1889, 277950], [2660, 557000], [1700, 429950], [700, 395000], [1640, 319000], [3820, 991500], [1580, 375000], [4090, 1095000], [5635, 950000], [2360, 370000], [2390, 623000], [1990, 625000], [3410, 585000], [1420, 225000], [2470, 625000], [3220, 430000], [2520, 610000], [2630, 610000], [1790, 603000], [2500, 390000], [1400, 148226], [1620, 314000], [2497, 275000], [2990, 469900], [1440, 295000], [1300, 226500], [3260, 1328000], [3240, 609000], [1710, 620000], [1910, 496600], [1200, 190000], [3180, 510000], [770, 257000], [3020, 775000], [1250, 299000], [3370, 806000], [1080, 325000], [1460, 505000], [1300, 505500], [2250, 445838], [1230, 147500], [2660, 595000], [2030, 305000], [2460, 611000], [1010, 270000], [3700, 540000], [800, 373500], [3440, 1225000], [2230, 355000], [3010, 750000], [2670, 925000], [2170, 296500], [1590, 280000], [2770, 470000], [2740, 1157400], [1050, 350000], [1270, 512000], [1730, 459000], [890, 302000], [2990, 1110000], [1790, 320000], [2960, 750000], [2350, 555000], [1400, 269950], [2860, 1450000], [1572, 299000], [2640, 678000], [2300, 299000], [2090, 490000], [1990, 620000], [3366, 1300000], [1560, 481000], [4320, 1775000], [1420, 255000], [4590, 1710000], [1200, 345000], [1530, 546000], [2514, 575000], [3030, 509900], [2370, 543000], [2290, 685000], [2170, 420000], [1560, 465000], [1560, 275000], [2980, 1400000], [2050, 210000], [3520, 1110000], [1630, 482500], [1330, 372000], [1824, 375900], [1300, 287000], [1410, 271920], [2220, 800000], [1460, 675000], [2480, 620000], [3670, 824000], [1630, 650000], [1750, 420000], [2700, 552500], [1960, 640000], [2090, 489900], [1120, 435000], [1330, 552100], [2600, 580000], [2110, 300000], [1660, 601150], [2950, 386500], [2960, 1340000], [1220, 465000], [2120, 693000], [1830, 358000], [4130, 900000], [3420, 720000], [1030, 345000], [1060, 420000], [2220, 654000], [1310, 242000], [2980, 739900], [2980, 600000], [1657, 546000], [2430, 443000], [1090, 196700], [1470, 241000], [2080, 1190000], [2280, 415000], [1430, 427500], [1940, 287000], [2150, 415000], [1390, 400000], [960, 215000], [1520, 530000], [2267, 306000], [1950, 440000], [1770, 245000], [2130, 380000], [1900, 250000], [2320, 630000], [2060, 335000], [1960, 360000], [910, 100000], [1490, 578500], [2430, 359000], [3190, 1650000], [1520, 279000], [2700, 837500], [2770, 825000], [1240, 232000], [2010, 260000], [3030, 274975], [2080, 442000], [2710, 450000], [1410, 279800], [1350, 429000], [2330, 490000], [2310, 510000], [1190, 455000], [830, 85000], [1960, 260000], [2500, 539900], [1650, 183750], [1480, 331000], [5060, 2150000], [1810, 465000], [3560, 843500], [1890, 510000], [2090, 491950], [3845, 1750000], [1500, 383000], [2280, 752500], [2040, 240000], [1390, 206600], [1970, 540000], [2350, 539000], [2890, 825000], [1220, 415000], [1510, 250000], [2440, 525000], [2200, 375000], [1390, 400000], [3900, 1040000], [2480, 399000], [3090, 659000], [3172, 432500], [2670, 430000], [2470, 618000], [2080, 254000], [2030, 499000], [2990, 760000], [2260, 540000], [1670, 448000], [2440, 431000], [2580, 588000], [2120, 765000], [2470, 630000], [2050, 584999], [1010, 205000], [2500, 646000], [3080, 830000], [1560, 324950], [2330, 270000], [1590, 190000], [1030, 253000], [1290, 440000], [2060, 715000], [1010, 315000], [2930, 750000], [3010, 728725], [690, 142500], [5620, 1569500], [2850, 783500], [2450, 760000], [1350, 225000], [1710, 690000], [2300, 1000000], [1730, 320000], [1460, 580000], [3020, 755000], [1490, 225000], [2190, 637000], [2040, 552500], [2160, 378750], [2440, 330000], [2680, 1028950], [1490, 310000], [940, 352000], [1798, 199900], [2420, 1100000], [1970, 419000], [750, 263500], [2500, 470500], [1030, 469000], [790, 330000], [2760, 336000], [2140, 330000], [1410, 390000], [2420, 325000], [2560, 1399000], [3950, 914500], [1950, 269000], [1741, 479000], [1870, 262000], [2090, 600000], [3148, 550000], [1800, 335620], [1720, 550000], [1800, 272000], [970, 360500], [2360, 302000], [1610, 526000], [2000, 536500], [1950, 274000], [1270, 246500], [960, 208950], [2180, 330000], [1810, 340500], [4140, 1060000], [1760, 264000], [2220, 334990], [1440, 210000], [3220, 625000], [1770, 450000], [1180, 205000], [1980, 418000], [2692, 436472], [2310, 362000], [1870, 313999], [940, 205000], [2970, 726888], [4140, 1839900], [1020, 245000], [3100, 511000], [720, 235000], [1830, 275000], [2810, 479950], [1460, 320000], [2240, 1265000], [1720, 537000], [2060, 545000], [1820, 659500], [2980, 565000], [2090, 659000], [1350, 482000], [4490, 3120000], [2290, 661254], [1950, 428000], [840, 130000], [3630, 1180000], [2550, 490000], [2580, 437000], [2780, 834500], [1550, 273500], [3510, 935000], [1980, 442000], [1280, 552000], [1140, 407000], [2210, 500000], [2830, 744000], [1310, 170000], [2200, 460000], [1440, 330000], [2130, 732600], [3860, 1051000], [2400, 485000], [4110, 1450000], [900, 329000], [2190, 465000], [1390, 261000], [790, 110000], [1210, 324950], [890, 207950], [2170, 315000], [1890, 375000], [2940, 710000], [2360, 515000], [660, 385000], [2080, 550000], [780, 130000], [1440, 439950], [1600, 218500], [2630, 589000], [3320, 1000000], [1510, 516130], [1340, 324950], [1070, 385000], [1930, 342000], [4790, 1675000], [1970, 678700], [1690, 390000], [1489, 255900], [1060, 335000], [1400, 325088], [1710, 290000], [1240, 390000], [6380, 1822500], [1720, 206325], [1720, 386380], [2820, 398000], [1100, 300000], [2830, 295500], [1970, 289000], [2900, 630000], [2040, 379950], [1010, 250000], [2540, 550500], [3280, 810000], [1750, 625000], [2700, 744500], [2230, 280000], [1770, 243000], [1760, 500000], [1690, 270000], [2800, 405000], [1320, 385000], [3010, 775000], [1290, 163000], [1990, 330000], [2450, 715000], [1120, 315000], [1230, 275000], [2570, 889000], [980, 334900], [3070, 341950], [1940, 322500], [1610, 218000], [1190, 290000], [2020, 488000], [2350, 692000], [2110, 324500], [2050, 427000], [1870, 680000], [1200, 235000], [4170, 1200000], [3490, 915000], [1580, 485000], [2270, 527500], [2500, 368000], [1860, 590000], [1580, 530000], [4640, 1950000], [2600, 722500], [2510, 624000], [2120, 828000], [1110, 750000], [1970, 812000], [900, 89000], [3660, 809950], [770, 275000], [2280, 312500], [2810, 533000], [2502, 453000], [1540, 525000], [1700, 539000], [1010, 279000], [1450, 419900], [1600, 154950], [2650, 1457000], [1180, 187500], [1290, 535000], [2020, 345000], [1440, 260000], [1240, 210000], [2510, 994000], [1780, 315000], [2080, 364000], [2320, 380000], [2500, 336500], [3730, 925000], [2100, 540000], [2740, 585444], [2020, 370000], [2470, 635000], [1384, 575000], [1370, 355000], [1300, 571500], [760, 361600], [1780, 296000], [2650, 674950], [1540, 375000], [1420, 398000], [1790, 250000], [3530, 2367000], [2070, 310000], [1940, 330000], [2672, 700000], [3450, 685000], [2240, 1080000], [1000, 305000], [1640, 410000], [930, 200000], [2560, 448000], [3990, 866000], [1870, 615000], [1340, 568000], [1170, 312000], [1980, 700000], [1480, 409000], [3800, 630000], [1250, 330000], [2601, 625000], [2790, 700000], [1250, 175000], [2120, 559950], [1160, 555000], [830, 299000], [1080, 379950], [2240, 654000], [1740, 280000], [2330, 542500], [1660, 559950], [1270, 370000], [1720, 772500], [3250, 480000], [1680, 385000], [1820, 499950], [2170, 842000], [1140, 329950], [710, 385195], [2300, 615000], [2340, 995000], [1140, 153000], [2800, 380000], [5000, 1730000], [1260, 275000], [3010, 879950], [2520, 307000], [2790, 815000], [1650, 260000], [2140, 359500], [2470, 445000], [1290, 600000], [870, 157000], [1410, 265000], [2110, 585000], [1040, 382500], [1010, 255000], [1930, 369950], [1440, 355000], [2030, 730000], [3710, 552500], [2510, 535000], [1870, 299000], [2140, 346150], [1620, 430000], [2160, 335000], [980, 438000], [2830, 1035292], [1760, 485000], [1360, 360000], [3610, 875909], [1190, 300500], [770, 252500], [2570, 472000], [1890, 423500], [1100, 397000], [2500, 1185001], [1060, 400000], [1660, 330000], [1370, 545000], [2810, 350000], [1120, 188000], [1410, 325000], [1530, 381800], [1180, 193000], [1860, 427000], [2190, 297500], [3732, 1225000], [2010, 475000], [2060, 558000], [1700, 455000], [2180, 488000], [1190, 500000], [1610, 197400], [2390, 355000], [2910, 550000], [1230, 550000], [3160, 558000], [1370, 394000], [2240, 418200], [2630, 619990], [930, 105500], [4720, 860000], [2000, 236000], [1180, 816000], [2400, 489950], [3570, 1600000], [1210, 230000], [2820, 749000], [2201, 397000], [1800, 400000], [2200, 365000], [3780, 782000], [3750, 725000], [1700, 331500], [2870, 665900], [5320, 1062500], [2330, 710000], [2240, 625000], [2580, 358000], [1880, 475999], [2830, 1240000], [1600, 488000], [1940, 399000], [1170, 335000], [1410, 272500], [1960, 215000], [1300, 309000], [3130, 710000], [4260, 1000000], [3680, 1378000], [1900, 229950], [1580, 375000], [1540, 512031], [1970, 501000], [1260, 312620], [3200, 497300], [2716, 452000], [1840, 750000], [1780, 349950], [1440, 427000], [2000, 593000], [3440, 1950000], [3830, 1250000], [1780, 261000], [1020, 625000], [920, 319950], [1260, 437500], [1870, 350000], [1610, 648000], [1850, 535000], [1490, 348000], [1610, 390000], [1340, 199950], [1630, 398500], [1490, 185000], [1920, 425000], [2900, 637000], [2620, 650000], [1890, 300000], [2860, 874000], [2220, 437000], [1120, 316000], [1480, 315000], [1580, 575000], [1580, 727000], [2110, 670000], [3120, 1580000], [1590, 305000], [650, 295000], [2260, 864000], [2440, 631625], [3560, 1280600], [3190, 757000], [2160, 549950], [1390, 208800], [1380, 320000], [1910, 293000], [1470, 238000], [2210, 589000], [1640, 480000], [1740, 455000], [3930, 589000], [1590, 210000], [2590, 576000], [2700, 383962], [1240, 320000], [1180, 630500], [2300, 775000], [1690, 349000], [1280, 500000], [1620, 246500], [1930, 475000], [2200, 339950], [3120, 444900], [1960, 182000], [2890, 706000], [1740, 496700], [2970, 599000], [1230, 239950], [1630, 230000], [780, 221900], [1570, 440000], [2120, 578550], [1390, 270000], [1650, 622000], [1060, 420000], [2990, 625000], [1760, 270000], [1240, 505000], [940, 520000], [1200, 329000], [4460, 490000], [2970, 1260000], [2400, 300000], [2400, 595000], [1430, 252000], [1300, 700000], [1970, 265000], [3250, 535000], [1120, 399000], [1270, 433000], [3000, 490500], [2200, 480000], [2000, 325000], [2150, 285000], [3010, 1100000], [1500, 215000], [1820, 389000], [2980, 1155000], [3190, 862000], [2790, 665000], [3730, 1564350], [1658, 263900], [1720, 500000], [3670, 1500000], [1450, 362500], [1510, 250000], [1110, 589000], [2170, 439950], [2010, 620000], [2620, 750000], [2510, 285000], [3500, 917000], [1460, 245000], [2150, 414999], [2520, 835000], [1060, 325000], [1380, 235500], [1500, 245000], [2200, 315000], [1430, 450000], [1690, 356200], [2100, 356000], [1840, 300000], [1800, 580000], [2800, 255000], [1980, 279000], [3650, 1195000], [700, 400000], [2100, 352500], [2780, 700000], [2230, 1450000], [3500, 798000], [1830, 599950], [2210, 500000], [870, 199950], [1330, 355000], [2980, 842500], [2430, 990000], [2835, 522000], [2780, 1090000], [1140, 560000], [2860, 655000], [1340, 545000], [1030, 450000], [1200, 146300], [3300, 785000], [3170, 820000], [3990, 740000], [2930, 838000], [1120, 310000], [1900, 435000], [2830, 680000], [1020, 168500], [2880, 775000], [3090, 850000], [1110, 379500], [6160, 1275000], [1610, 293500], [1340, 275000], [1380, 527500], [3010, 837700], [1800, 385000], [1020, 216500], [1180, 450000], [2110, 725000], [3070, 1000750], [3800, 380000], [1680, 282000], [3820, 1274950], [1070, 401750], [1780, 587500], [1660, 716000], [1800, 436000], [1330, 539950], [1010, 300000], [2260, 900000], [1670, 505000], [750, 258305], [1780, 672000], [2100, 759950], [1280, 370000], [1560, 465000], [2470, 660000], [1720, 540000], [2910, 292000], [1480, 216650], [910, 455000], [1550, 324000], [1310, 717000], [2370, 351999], [1390, 315000], [2390, 682000], [2500, 417000], [1650, 460000], [2216, 667000], [1090, 306000], [1950, 255000], [4410, 1881583], [3660, 920000], [1760, 388000], [1560, 435000], [930, 465000], [2580, 698000], [1720, 385000], [2890, 585000], [2630, 625000], [2910, 925000], [2360, 625000], [2680, 437500], [4600, 880000], [3450, 1035000], [1280, 670000], [3176, 819000], [970, 315000], [1750, 380000], [1210, 237000], [1830, 312000], [1000, 410988], [3620, 919000], [2350, 277554], [1300, 330000], [1990, 776000], [2560, 599000], [3860, 670000], [2540, 269950], [920, 285000], [3130, 851000], [2850, 750000], [1710, 539000], [1670, 180000], [1930, 407500], [3380, 569950], [3560, 1045000], [980, 215000], [2570, 1180000], [2610, 335000], [2620, 535000], [1670, 450000], [4440, 1037000], [4200, 1335000], [2950, 759000], [1440, 292500], [2092, 390000], [1880, 460000], [3130, 565000], [1830, 488250], [3350, 845000], [2200, 433500], [2970, 469500], [2310, 685000], [2240, 482000], [1210, 824000], [1770, 480000], [3070, 718000], [2680, 575000], [2245, 362865], [2403, 519900], [1120, 265000], [2420, 367899], [2080, 345000], [1140, 455000], [2320, 364808], [1430, 429950], [1790, 307000], [2780, 645000], [1130, 565000], [2200, 425000], [2420, 500000], [5130, 1599950], [2500, 808000], [3030, 837219], [2420, 998000]], \"columns\": [{\"dtype\": \"str\", \"name\": \"id\"}, {\"dtype\": \"datetime\", \"name\": \"date\"}, {\"dtype\": \"int\", \"name\": \"price\"}, {\"dtype\": \"str\", \"name\": \"bedrooms\"}, {\"dtype\": \"str\", \"name\": \"bathrooms\"}, {\"dtype\": \"int\", \"name\": \"sqft_living\"}, {\"dtype\": \"int\", \"name\": \"sqft_lot\"}, {\"dtype\": \"str\", \"name\": \"floors\"}, {\"dtype\": \"int\", \"name\": \"waterfront\"}, {\"dtype\": \"int\", \"name\": \"view\"}, {\"dtype\": \"int\", \"name\": \"condition\"}, {\"dtype\": \"int\", \"name\": \"grade\"}, {\"dtype\": \"int\", \"name\": \"sqft_above\"}, {\"dtype\": \"int\", \"name\": \"sqft_basement\"}, {\"dtype\": \"int\", \"name\": \"yr_built\"}, {\"dtype\": \"int\", \"name\": \"yr_renovated\"}, {\"dtype\": \"str\", \"name\": \"zipcode\"}, {\"dtype\": \"float\", \"name\": \"lat\"}, {\"dtype\": \"float\", \"name\": \"long\"}, {\"dtype\": \"float\", \"name\": \"sqft_living15\"}, {\"dtype\": \"float\", \"name\": \"sqft_lot15\"}]}, e);\n",
       "                });\n",
       "            })();\n",
       "        "
      ]
     },
     "metadata": {},
     "output_type": "display_data"
    }
   ],
   "source": [
    "graphlab.canvas.set_target('ipynb')\n",
    "sales.show(view='Scatter Plot',x='sqft_living',y='price')"
   ]
  },
  {
   "cell_type": "code",
   "execution_count": 10,
   "metadata": {
    "collapsed": true
   },
   "outputs": [],
   "source": [
    "train_data,test_data= sales.random_split(.8,seed=0)"
   ]
  },
  {
   "cell_type": "code",
   "execution_count": 11,
   "metadata": {
    "collapsed": false
   },
   "outputs": [
    {
     "name": "stdout",
     "output_type": "stream",
     "text": [
      "PROGRESS: Creating a validation set from 5 percent of training data. This may take a while.\n",
      "          You can set ``validation_set=None`` to disable validation tracking.\n",
      "\n"
     ]
    },
    {
     "data": {
      "text/html": [
       "<pre>Linear regression:</pre>"
      ],
      "text/plain": [
       "Linear regression:"
      ]
     },
     "metadata": {},
     "output_type": "display_data"
    },
    {
     "data": {
      "text/html": [
       "<pre>--------------------------------------------------------</pre>"
      ],
      "text/plain": [
       "--------------------------------------------------------"
      ]
     },
     "metadata": {},
     "output_type": "display_data"
    },
    {
     "data": {
      "text/html": [
       "<pre>Number of examples          : 16481</pre>"
      ],
      "text/plain": [
       "Number of examples          : 16481"
      ]
     },
     "metadata": {},
     "output_type": "display_data"
    },
    {
     "data": {
      "text/html": [
       "<pre>Number of features          : 1</pre>"
      ],
      "text/plain": [
       "Number of features          : 1"
      ]
     },
     "metadata": {},
     "output_type": "display_data"
    },
    {
     "data": {
      "text/html": [
       "<pre>Number of unpacked features : 1</pre>"
      ],
      "text/plain": [
       "Number of unpacked features : 1"
      ]
     },
     "metadata": {},
     "output_type": "display_data"
    },
    {
     "data": {
      "text/html": [
       "<pre>Number of coefficients    : 2</pre>"
      ],
      "text/plain": [
       "Number of coefficients    : 2"
      ]
     },
     "metadata": {},
     "output_type": "display_data"
    },
    {
     "data": {
      "text/html": [
       "<pre>Starting Newton Method</pre>"
      ],
      "text/plain": [
       "Starting Newton Method"
      ]
     },
     "metadata": {},
     "output_type": "display_data"
    },
    {
     "data": {
      "text/html": [
       "<pre>--------------------------------------------------------</pre>"
      ],
      "text/plain": [
       "--------------------------------------------------------"
      ]
     },
     "metadata": {},
     "output_type": "display_data"
    },
    {
     "data": {
      "text/html": [
       "<pre>+-----------+----------+--------------+--------------------+----------------------+---------------+-----------------+</pre>"
      ],
      "text/plain": [
       "+-----------+----------+--------------+--------------------+----------------------+---------------+-----------------+"
      ]
     },
     "metadata": {},
     "output_type": "display_data"
    },
    {
     "data": {
      "text/html": [
       "<pre>| Iteration | Passes   | Elapsed Time | Training-max_error | Validation-max_error | Training-rmse | Validation-rmse |</pre>"
      ],
      "text/plain": [
       "| Iteration | Passes   | Elapsed Time | Training-max_error | Validation-max_error | Training-rmse | Validation-rmse |"
      ]
     },
     "metadata": {},
     "output_type": "display_data"
    },
    {
     "data": {
      "text/html": [
       "<pre>+-----------+----------+--------------+--------------------+----------------------+---------------+-----------------+</pre>"
      ],
      "text/plain": [
       "+-----------+----------+--------------+--------------------+----------------------+---------------+-----------------+"
      ]
     },
     "metadata": {},
     "output_type": "display_data"
    },
    {
     "data": {
      "text/html": [
       "<pre>| 1         | 2        | 1.014476     | 4336227.229277     | 1416301.310472       | 264182.467150 | 239280.821756   |</pre>"
      ],
      "text/plain": [
       "| 1         | 2        | 1.014476     | 4336227.229277     | 1416301.310472       | 264182.467150 | 239280.821756   |"
      ]
     },
     "metadata": {},
     "output_type": "display_data"
    },
    {
     "data": {
      "text/html": [
       "<pre>+-----------+----------+--------------+--------------------+----------------------+---------------+-----------------+</pre>"
      ],
      "text/plain": [
       "+-----------+----------+--------------+--------------------+----------------------+---------------+-----------------+"
      ]
     },
     "metadata": {},
     "output_type": "display_data"
    },
    {
     "data": {
      "text/html": [
       "<pre>SUCCESS: Optimal solution found.</pre>"
      ],
      "text/plain": [
       "SUCCESS: Optimal solution found."
      ]
     },
     "metadata": {},
     "output_type": "display_data"
    },
    {
     "data": {
      "text/html": [
       "<pre></pre>"
      ],
      "text/plain": []
     },
     "metadata": {},
     "output_type": "display_data"
    }
   ],
   "source": [
    "sqft_model=graphlab.linear_regression.create(train_data,target='price',features=['sqft_living'])"
   ]
  },
  {
   "cell_type": "code",
   "execution_count": 12,
   "metadata": {
    "collapsed": false
   },
   "outputs": [
    {
     "ename": "ImportError",
     "evalue": "No module named mathplotlib.pyplot",
     "output_type": "error",
     "traceback": [
      "\u001b[1;31m---------------------------------------------------------------------------\u001b[0m",
      "\u001b[1;31mImportError\u001b[0m                               Traceback (most recent call last)",
      "\u001b[1;32m<ipython-input-12-558429cb2d00>\u001b[0m in \u001b[0;36m<module>\u001b[1;34m()\u001b[0m\n\u001b[1;32m----> 1\u001b[1;33m \u001b[1;32mimport\u001b[0m \u001b[0mmathplotlib\u001b[0m\u001b[1;33m.\u001b[0m\u001b[0mpyplot\u001b[0m \u001b[1;32mas\u001b[0m \u001b[0mplt\u001b[0m\u001b[1;33m\u001b[0m\u001b[0m\n\u001b[0m",
      "\u001b[1;31mImportError\u001b[0m: No module named mathplotlib.pyplot"
     ]
    }
   ],
   "source": [
    "import mathplotlib.pyplot as plt"
   ]
  },
  {
   "cell_type": "code",
   "execution_count": 13,
   "metadata": {
    "collapsed": false
   },
   "outputs": [
    {
     "data": {
      "text/plain": [
       "(None, '/opt/conda/lib/python2.7/site-packages/matplotlib', ('', '', 5))"
      ]
     },
     "execution_count": 13,
     "metadata": {},
     "output_type": "execute_result"
    }
   ],
   "source": [
    "import imp\n",
    "imp.find_module(\"matplotlib\")"
   ]
  },
  {
   "cell_type": "code",
   "execution_count": 14,
   "metadata": {
    "collapsed": false
   },
   "outputs": [
    {
     "ename": "ImportError",
     "evalue": "No module named mathplotlib",
     "output_type": "error",
     "traceback": [
      "\u001b[1;31m---------------------------------------------------------------------------\u001b[0m",
      "\u001b[1;31mImportError\u001b[0m                               Traceback (most recent call last)",
      "\u001b[1;32m<ipython-input-14-afd18e13cbb4>\u001b[0m in \u001b[0;36m<module>\u001b[1;34m()\u001b[0m\n\u001b[1;32m----> 1\u001b[1;33m \u001b[1;32mimport\u001b[0m \u001b[0mmathplotlib\u001b[0m\u001b[1;33m\u001b[0m\u001b[0m\n\u001b[0m",
      "\u001b[1;31mImportError\u001b[0m: No module named mathplotlib"
     ]
    }
   ],
   "source": [
    "import mathplotlib"
   ]
  },
  {
   "cell_type": "code",
   "execution_count": 15,
   "metadata": {
    "collapsed": false
   },
   "outputs": [
    {
     "ename": "SyntaxError",
     "evalue": "invalid syntax (<ipython-input-15-205b74e5c7d7>, line 1)",
     "output_type": "error",
     "traceback": [
      "\u001b[1;36m  File \u001b[1;32m\"<ipython-input-15-205b74e5c7d7>\"\u001b[1;36m, line \u001b[1;32m1\u001b[0m\n\u001b[1;33m    import /opt/conda/lib/python2.7/site-packages/matplotlib\u001b[0m\n\u001b[1;37m           ^\u001b[0m\n\u001b[1;31mSyntaxError\u001b[0m\u001b[1;31m:\u001b[0m invalid syntax\n"
     ]
    }
   ],
   "source": [
    "import /opt/conda/lib/python2.7/site-packages/matplotlib"
   ]
  },
  {
   "cell_type": "code",
   "execution_count": 1,
   "metadata": {
    "collapsed": false
   },
   "outputs": [
    {
     "ename": "ImportError",
     "evalue": "No module named mathplotlib.pyplot",
     "output_type": "error",
     "traceback": [
      "\u001b[1;31m---------------------------------------------------------------------------\u001b[0m",
      "\u001b[1;31mImportError\u001b[0m                               Traceback (most recent call last)",
      "\u001b[1;32m<ipython-input-1-558429cb2d00>\u001b[0m in \u001b[0;36m<module>\u001b[1;34m()\u001b[0m\n\u001b[1;32m----> 1\u001b[1;33m \u001b[1;32mimport\u001b[0m \u001b[0mmathplotlib\u001b[0m\u001b[1;33m.\u001b[0m\u001b[0mpyplot\u001b[0m \u001b[1;32mas\u001b[0m \u001b[0mplt\u001b[0m\u001b[1;33m\u001b[0m\u001b[0m\n\u001b[0m",
      "\u001b[1;31mImportError\u001b[0m: No module named mathplotlib.pyplot"
     ]
    }
   ],
   "source": [
    "import mathplotlib.pyplot as plt"
   ]
  },
  {
   "cell_type": "code",
   "execution_count": 2,
   "metadata": {
    "collapsed": false
   },
   "outputs": [
    {
     "ename": "NameError",
     "evalue": "name 'sales' is not defined",
     "output_type": "error",
     "traceback": [
      "\u001b[1;31m---------------------------------------------------------------------------\u001b[0m",
      "\u001b[1;31mNameError\u001b[0m                                 Traceback (most recent call last)",
      "\u001b[1;32m<ipython-input-2-642aa85fe7f5>\u001b[0m in \u001b[0;36m<module>\u001b[1;34m()\u001b[0m\n\u001b[1;32m----> 1\u001b[1;33m \u001b[0msales\u001b[0m\u001b[1;33m.\u001b[0m\u001b[0mshow\u001b[0m\u001b[1;33m(\u001b[0m\u001b[0mview\u001b[0m\u001b[1;33m=\u001b[0m\u001b[1;34m'BoxWhisker Plot'\u001b[0m\u001b[1;33m,\u001b[0m\u001b[0mx\u001b[0m\u001b[1;33m=\u001b[0m\u001b[1;34m'zipcode'\u001b[0m\u001b[1;33m,\u001b[0m\u001b[0my\u001b[0m\u001b[1;33m=\u001b[0m\u001b[1;34m'price'\u001b[0m\u001b[1;33m)\u001b[0m\u001b[1;33m\u001b[0m\u001b[0m\n\u001b[0m",
      "\u001b[1;31mNameError\u001b[0m: name 'sales' is not defined"
     ]
    }
   ],
   "source": [
    "sales.show(view='BoxWhisker Plot',x='zipcode',y='price')"
   ]
  },
  {
   "cell_type": "code",
   "execution_count": 3,
   "metadata": {
    "collapsed": false
   },
   "outputs": [
    {
     "ename": "NameError",
     "evalue": "name 'graphlab' is not defined",
     "output_type": "error",
     "traceback": [
      "\u001b[1;31m---------------------------------------------------------------------------\u001b[0m",
      "\u001b[1;31mNameError\u001b[0m                                 Traceback (most recent call last)",
      "\u001b[1;32m<ipython-input-3-35a25aea4e50>\u001b[0m in \u001b[0;36m<module>\u001b[1;34m()\u001b[0m\n\u001b[1;32m----> 1\u001b[1;33m \u001b[0mgraphlab\u001b[0m\u001b[1;33m.\u001b[0m\u001b[0mcanvas\u001b[0m\u001b[1;33m.\u001b[0m\u001b[0mset_target\u001b[0m\u001b[1;33m(\u001b[0m\u001b[1;34m'ipynb'\u001b[0m\u001b[1;33m)\u001b[0m\u001b[1;33m\u001b[0m\u001b[0m\n\u001b[0m\u001b[0;32m      2\u001b[0m \u001b[0msales\u001b[0m\u001b[1;33m.\u001b[0m\u001b[0mshow\u001b[0m\u001b[1;33m(\u001b[0m\u001b[0mview\u001b[0m\u001b[1;33m=\u001b[0m\u001b[1;34m'Scatter Plot'\u001b[0m\u001b[1;33m,\u001b[0m\u001b[0mx\u001b[0m\u001b[1;33m=\u001b[0m\u001b[1;34m'sqft_living'\u001b[0m\u001b[1;33m,\u001b[0m\u001b[0my\u001b[0m\u001b[1;33m=\u001b[0m\u001b[1;34m'price'\u001b[0m\u001b[1;33m)\u001b[0m\u001b[1;33m\u001b[0m\u001b[0m\n",
      "\u001b[1;31mNameError\u001b[0m: name 'graphlab' is not defined"
     ]
    }
   ],
   "source": [
    "graphlab.canvas.set_target('ipynb')\n",
    "sales.show(view='Scatter Plot',x='sqft_living',y='price')"
   ]
  },
  {
   "cell_type": "code",
   "execution_count": 4,
   "metadata": {
    "collapsed": true
   },
   "outputs": [],
   "source": [
    "import graphlab"
   ]
  },
  {
   "cell_type": "code",
   "execution_count": 5,
   "metadata": {
    "collapsed": true
   },
   "outputs": [],
   "source": [
    "graphlab.product_key.set_product_key('0B0B-1998-CF5E-3BE8-F5DE-7F46-4C70-9D99')"
   ]
  },
  {
   "cell_type": "code",
   "execution_count": 6,
   "metadata": {
    "collapsed": false
   },
   "outputs": [
    {
     "name": "stderr",
     "output_type": "stream",
     "text": [
      "/opt/conda/lib/python2.7/site-packages/requests/packages/urllib3/connection.py:266: SubjectAltNameWarning: Certificate for beta.graphlab.com has no `subjectAltName`, falling back to check for a `commonName` for now. This feature is being removed by major browsers and deprecated by RFC 2818. (See https://github.com/shazow/urllib3/issues/497 for details.)\n",
      "  SubjectAltNameWarning\n"
     ]
    },
    {
     "name": "stdout",
     "output_type": "stream",
     "text": [
      "This non-commercial license of GraphLab Create for academic use is assigned to somnath@cse.jgec.ac.in and will expire on August 07, 2017.\n"
     ]
    },
    {
     "name": "stderr",
     "output_type": "stream",
     "text": [
      "[INFO] graphlab.cython.cy_server: GraphLab Create v2.0.1 started. Logging: /tmp/graphlab_server_1470742579.log\n"
     ]
    }
   ],
   "source": [
    "sales=graphlab.SFrame('home_data.gl/')"
   ]
  },
  {
   "cell_type": "code",
   "execution_count": 7,
   "metadata": {
    "collapsed": false
   },
   "outputs": [
    {
     "name": "stdout",
     "output_type": "stream",
     "text": [
      "Canvas is accessible via web browser at the URL: http://localhost:41808/index.html\n",
      "Opening Canvas in default web browser.\n"
     ]
    }
   ],
   "source": [
    "sales.show(view='BoxWhisker Plot',x='zipcode',y='price')"
   ]
  },
  {
   "cell_type": "code",
   "execution_count": 8,
   "metadata": {
    "collapsed": false
   },
   "outputs": [
    {
     "data": {
      "application/javascript": [
       "$(\"head\").append($(\"<link/>\").attr({\n",
       "  rel:  \"stylesheet\",\n",
       "  type: \"text/css\",\n",
       "  href: \"//cdnjs.cloudflare.com/ajax/libs/font-awesome/4.1.0/css/font-awesome.min.css\"\n",
       "}));\n",
       "$(\"head\").append($(\"<link/>\").attr({\n",
       "  rel:  \"stylesheet\",\n",
       "  type: \"text/css\",\n",
       "  href: \"https://static.turi.com/products/graphlab-create/2.0.1/canvas/css/canvas.css\"\n",
       "}));\n",
       "\n",
       "            (function(){\n",
       "\n",
       "                var e = null;\n",
       "                if (typeof element == 'undefined') {\n",
       "                    var scripts = document.getElementsByTagName('script');\n",
       "                    var thisScriptTag = scripts[scripts.length-1];\n",
       "                    var parentDiv = thisScriptTag.parentNode;\n",
       "                    e = document.createElement('div');\n",
       "                    parentDiv.appendChild(e);\n",
       "                } else {\n",
       "                    e = element[0];\n",
       "                }\n",
       "\n",
       "                if (typeof requirejs !== 'undefined') {\n",
       "                    // disable load timeout; ipython_app.js is large and can take a while to load.\n",
       "                    requirejs.config({waitSeconds: 0});\n",
       "                }\n",
       "\n",
       "                require(['https://static.turi.com/products/graphlab-create/2.0.1/canvas/js/ipython_app.js'], function(IPythonApp){\n",
       "                    var app = new IPythonApp();\n",
       "                    app.attachView('sframe','Plots', {\"selected_variable\": {\"name\": [\"sales\"], \"descriptives\": {\"rows\": 21613, \"columns\": 21}, \"view_component\": \"Plots\", \"view_file\": \"sframe\", \"view_params\": {\"y\": \"price\", \"x\": \"zipcode\", \"columns\": [\"id\", \"date\", \"price\", \"bedrooms\", \"bathrooms\", \"sqft_living\", \"sqft_lot\", \"floors\", \"waterfront\", \"view\", \"condition\", \"grade\", \"sqft_above\", \"sqft_basement\", \"yr_built\", \"yr_renovated\", \"zipcode\", \"lat\", \"long\", \"sqft_living15\", \"sqft_lot15\"], \"view\": \"BoxWhisker Plot\"}, \"view_components\": [\"Summary\", \"Table\", \"Bar Chart\", \"BoxWhisker Plot\", \"Line Chart\", \"Scatter Plot\", \"Heat Map\", \"Plots\"], \"type\": \"SFrame\", \"columns\": [{\"dtype\": \"str\", \"name\": \"id\"}, {\"dtype\": \"datetime\", \"name\": \"date\"}, {\"dtype\": \"int\", \"name\": \"price\"}, {\"dtype\": \"str\", \"name\": \"bedrooms\"}, {\"dtype\": \"str\", \"name\": \"bathrooms\"}, {\"dtype\": \"int\", \"name\": \"sqft_living\"}, {\"dtype\": \"int\", \"name\": \"sqft_lot\"}, {\"dtype\": \"str\", \"name\": \"floors\"}, {\"dtype\": \"int\", \"name\": \"waterfront\"}, {\"dtype\": \"int\", \"name\": \"view\"}, {\"dtype\": \"int\", \"name\": \"condition\"}, {\"dtype\": \"int\", \"name\": \"grade\"}, {\"dtype\": \"int\", \"name\": \"sqft_above\"}, {\"dtype\": \"int\", \"name\": \"sqft_basement\"}, {\"dtype\": \"int\", \"name\": \"yr_built\"}, {\"dtype\": \"int\", \"name\": \"yr_renovated\"}, {\"dtype\": \"str\", \"name\": \"zipcode\"}, {\"dtype\": \"float\", \"name\": \"lat\"}, {\"dtype\": \"float\", \"name\": \"long\"}, {\"dtype\": \"float\", \"name\": \"sqft_living15\"}, {\"dtype\": \"float\", \"name\": \"sqft_lot15\"}], \"column_identifiers\": [\"bathrooms\", \"sqft_living15\", \"sqft_above\", \"grade\", \"yr_built\", \"price\", \"bedrooms\", \"zipcode\", \"long\", \"id\", \"sqft_lot15\", \"sqft_living\", \"floors\", \"sqft_lot\", \"date\", \"waterfront\", \"sqft_basement\", \"yr_renovated\", \"lat\", \"condition\", \"view\"]}, \"complete\": 1, \"ipython\": true, \"progress\": 1.0, \"data\": {\"grouped\": [[\"98001\", [100000.0, 115000.0, 180000.0, 184000.0, 215000.0, 260000.0, 320000.0, 420000.0, 427000.0, 625000.0, 850000.0]], [\"98002\", [95000.0, 111300.0, 160000.0, 163500.0, 199950.0, 235000.0, 269000.0, 298900.0, 300000.0, 370000.0, 389000.0]], [\"98003\", [128000.0, 152500.0, 199000.0, 200000.0, 229000.0, 267950.0, 333000.0, 420000.0, 429900.0, 740000.0, 950000.0]], [\"98004\", [425000.0, 595000.0, 695000.0, 720000.0, 845000.0, 1150000.0, 1691000.0, 2150000.0, 2200000.0, 3800000.0, 7062500.0]], [\"98005\", [400000.0, 411100.0, 542500.0, 549000.0, 638700.0, 768500.0, 915000.0, 1110000.0, 1125000.0, 1900000.0, 1960000.0]], [\"98006\", [247500.0, 295000.0, 450000.0, 455000.0, 575000.0, 760369.0, 978000.0, 1380000.0, 1400000.0, 2525000.0, 4208000.0]], [\"98007\", [295000.0, 330000.0, 415500.0, 419000.0, 465000.0, 555000.0, 730000.0, 900000.0, 907500.0, 1229000.0, 1315000.0]], [\"98008\", [250000.0, 277700.0, 405000.0, 415000.0, 465000.0, 545000.0, 660000.0, 850000.0, 899000.0, 3300000.0, 3567000.0]], [\"98010\", [135000.0, 162000.0, 208500.0, 212644.0, 257000.0, 360000.0, 600000.0, 712000.0, 720000.0, 935000.0, 935000.0]], [\"98011\", [245500.0, 260000.0, 347000.0, 361000.0, 411800.0, 470000.0, 550000.0, 632000.0, 650000.0, 870000.0, 1075000.0]], [\"98014\", [80000.0, 134000.0, 167000.0, 180000.0, 309000.0, 415000.0, 539000.0, 739000.0, 755000.0, 1610000.0, 1680000.0]], [\"98019\", [119500.0, 170000.0, 289275.0, 299950.0, 330000.0, 402500.0, 500000.0, 570000.0, 570000.0, 979500.0, 1015000.0]], [\"98022\", [75000.0, 152900.0, 199990.0, 200000.0, 235000.0, 280000.0, 350000.0, 475000.0, 487000.0, 750000.0, 858000.0]], [\"98023\", [86500.0, 115000.0, 188000.0, 193000.0, 224097.0, 268450.0, 316500.0, 402500.0, 415000.0, 629000.0, 1275000.0]], [\"98024\", [142000.0, 142000.0, 258000.0, 260000.0, 340000.0, 460000.0, 700000.0, 997950.0, 1065000.0, 1862000.0, 1862000.0]], [\"98027\", [130000.0, 240000.0, 352499.0, 361000.0, 450000.0, 571000.0, 716500.0, 865000.0, 890000.0, 1800000.0, 2700000.0]], [\"98028\", [160000.0, 196000.0, 300000.0, 310000.0, 379950.0, 445000.0, 526750.0, 610000.0, 619990.0, 1120000.0, 1600000.0]], [\"98029\", [285000.0, 310000.0, 413565.0, 420000.0, 485000.0, 575000.0, 690000.0, 795000.0, 812000.0, 1450000.0, 2200000.0]], [\"98030\", [120000.0, 140000.0, 213400.0, 220000.0, 249950.0, 282510.0, 339950.0, 380000.0, 386000.0, 491000.0, 565000.0]], [\"98031\", [147500.0, 152000.0, 223000.0, 230000.0, 252000.0, 288400.0, 327500.0, 377000.0, 382500.0, 680000.0, 800000.0]], [\"98032\", [85000.0, 85000.0, 165000.0, 169000.0, 221700.0, 249000.0, 285000.0, 321000.0, 324900.0, 400000.0, 545000.0]], [\"98033\", [130000.0, 305000.0, 425000.0, 437500.0, 535000.0, 678700.0, 902000.0, 1339000.0, 1378000.0, 2650000.0, 5110800.0]], [\"98034\", [90000.0, 257000.0, 330000.0, 335000.0, 387000.0, 445950.0, 525000.0, 749950.0, 799950.0, 2125000.0, 3120000.0]], [\"98038\", [110000.0, 176000.0, 240000.0, 245000.0, 285000.0, 342000.0, 410000.0, 533000.0, 540000.0, 849000.0, 1350000.0]], [\"98039\", [787500.0, 787500.0, 940000.0, 1000000.0, 1398000.0, 1905000.0, 2575000.0, 3640900.0, 3640900.0, 6885000.0, 6885000.0]], [\"98040\", [500000.0, 550000.0, 685000.0, 698000.0, 821000.0, 994000.0, 1387000.0, 1815000.0, 1900000.0, 3850000.0, 5300000.0]], [\"98042\", [105000.0, 132825.0, 200000.0, 204000.0, 240000.0, 292500.0, 359950.0, 444900.0, 450000.0, 734000.0, 859000.0]], [\"98045\", [175000.0, 189000.0, 259000.0, 271000.0, 305000.0, 399500.0, 495000.0, 665000.0, 688000.0, 1075000.0, 1950000.0]], [\"98052\", [225000.0, 315000.0, 425000.0, 432100.0, 509250.0, 615000.0, 751000.0, 852500.0, 872750.0, 1299888.0, 2200000.0]], [\"98053\", [170000.0, 300000.0, 400000.0, 405000.0, 485000.0, 635000.0, 790500.0, 955990.0, 975000.0, 1769000.0, 2280000.0]], [\"98055\", [100000.0, 126000.0, 192000.0, 197500.0, 240000.0, 295000.0, 350000.0, 430000.0, 440000.0, 580000.0, 631000.0]], [\"98056\", [139000.0, 155000.0, 230000.0, 231500.0, 289000.0, 380000.0, 510000.0, 635000.0, 640000.0, 980000.0, 3000000.0]], [\"98058\", [95000.0, 144000.0, 225000.0, 230000.0, 285000.0, 335000.0, 392000.0, 475000.0, 485000.0, 790000.0, 1500000.0]], [\"98059\", [172500.0, 217000.0, 291375.0, 294500.0, 340000.0, 435000.0, 552500.0, 751000.0, 785000.0, 1300000.0, 1780000.0]], [\"98065\", [170000.0, 208000.0, 323000.0, 335000.0, 424950.0, 500000.0, 619000.0, 710000.0, 723000.0, 1145000.0, 1998000.0]], [\"98070\", [160000.0, 181000.0, 280000.0, 285000.0, 340000.0, 465000.0, 575000.0, 729000.0, 730000.0, 1350000.0, 1379900.0]], [\"98072\", [200000.0, 275000.0, 357823.0, 365000.0, 422800.0, 515000.0, 642860.0, 879000.0, 905000.0, 1350000.0, 1565000.0]], [\"98074\", [280000.0, 325000.0, 420000.0, 434900.0, 532000.0, 642000.0, 798000.0, 922755.0, 929000.0, 1675000.0, 3075000.0]], [\"98075\", [406430.0, 432000.0, 545000.0, 550000.0, 641000.0, 739999.0, 870000.0, 1060000.0, 1062500.0, 2000000.0, 3200000.0]], [\"98077\", [250000.0, 274975.0, 335000.0, 353000.0, 510000.0, 654950.0, 835000.0, 950000.0, 985000.0, 1820000.0, 1920000.0]], [\"98092\", [90000.0, 148226.0, 210000.0, 216000.0, 263950.0, 309780.0, 379500.0, 471275.0, 480000.0, 835000.0, 930000.0]], [\"98102\", [330000.0, 350000.0, 440000.0, 475000.0, 575000.0, 720000.0, 979700.0, 1440000.0, 1443917.0, 2479000.0, 7700000.0]], [\"98103\", [238000.0, 259250.0, 352950.0, 355000.0, 432000.0, 550000.0, 695000.0, 830000.0, 850000.0, 1350000.0, 1695000.0]], [\"98105\", [380000.0, 395000.0, 483000.0, 485000.0, 550000.0, 675000.0, 1005000.0, 1415000.0, 1482500.0, 2555000.0, 3650000.0]], [\"98106\", [90000.0, 107000.0, 208400.0, 210000.0, 260000.0, 315000.0, 366000.0, 426000.0, 435000.0, 625000.0, 795000.0]], [\"98107\", [290000.0, 356000.0, 425000.0, 430000.0, 470000.0, 529950.0, 630000.0, 752500.0, 769950.0, 1205000.0, 2945000.0]], [\"98108\", [90000.0, 130000.0, 230000.0, 230000.0, 284000.0, 345000.0, 425000.0, 491000.0, 500000.0, 635000.0, 640000.0]], [\"98109\", [216650.0, 216650.0, 478000.0, 479000.0, 620000.0, 736000.0, 1000000.0, 1450000.0, 1450000.0, 2900000.0, 3200000.0]], [\"98112\", [169317.0, 350000.0, 515000.0, 524000.0, 680000.0, 915000.0, 1328000.0, 1975000.0, 2048000.0, 3000000.0, 3400000.0]], [\"98115\", [200000.0, 289500.0, 395000.0, 399000.0, 455000.0, 567000.0, 719000.0, 897000.0, 925000.0, 1500000.0, 2300000.0]], [\"98116\", [130000.0, 252000.0, 386950.0, 390000.0, 460000.0, 565500.0, 703000.0, 930000.0, 950000.0, 1598888.0, 2050000.0]], [\"98117\", [125000.0, 280000.0, 375000.0, 390000.0, 450000.0, 544000.0, 657500.0, 825000.0, 850000.0, 1275000.0, 1370000.0]], [\"98118\", [109000.0, 155000.0, 221000.0, 226000.0, 289000.0, 367500.0, 476500.0, 665000.0, 680000.0, 1309500.0, 2903000.0]], [\"98119\", [300523.0, 365000.0, 485000.0, 490000.0, 600000.0, 749950.0, 940000.0, 1320000.0, 1330000.0, 2630000.0, 3065000.0]], [\"98122\", [202000.0, 260000.0, 375000.0, 385000.0, 450000.0, 574000.0, 720000.0, 920000.0, 925000.0, 1850000.0, 2050000.0]], [\"98125\", [175000.0, 228000.0, 303697.0, 310000.0, 357250.0, 425000.0, 518000.0, 675000.0, 689000.0, 1335000.0, 2050000.0]], [\"98126\", [110000.0, 183000.0, 250000.0, 255000.0, 320000.0, 396500.0, 485000.0, 643500.0, 661000.0, 901000.0, 1085000.0]], [\"98133\", [130000.0, 210000.0, 275000.0, 277500.0, 318000.0, 375000.0, 435000.0, 507000.0, 518000.0, 729953.0, 808100.0]], [\"98136\", [200000.0, 229050.0, 340000.0, 345000.0, 398000.0, 489950.0, 660000.0, 838000.0, 850000.0, 1662000.0, 2230000.0]], [\"98144\", [181000.0, 230000.0, 325000.0, 327000.0, 374950.0, 450000.0, 666000.0, 970000.0, 1039000.0, 2450000.0, 3600000.0]], [\"98146\", [82000.0, 104950.0, 158800.0, 175000.0, 229500.0, 307000.0, 409000.0, 605000.0, 665900.0, 1250000.0, 1410000.0]], [\"98148\", [105500.0, 105500.0, 193000.0, 193000.0, 240000.0, 278000.0, 319990.0, 375000.0, 375000.0, 600600.0, 600600.0]], [\"98155\", [153000.0, 195000.0, 267800.0, 270000.0, 315000.0, 375000.0, 460000.0, 590000.0, 600000.0, 1680000.0, 4500000.0]], [\"98166\", [100000.0, 129888.0, 220000.0, 229000.0, 292000.0, 390000.0, 540500.0, 755000.0, 770000.0, 1899000.0, 2510000.0]], [\"98168\", [78000.0, 82500.0, 150550.0, 158000.0, 199950.0, 235000.0, 285000.0, 325000.0, 327200.0, 424305.0, 600000.0]], [\"98177\", [245560.0, 276000.0, 355950.0, 367500.0, 427000.0, 554000.0, 749950.0, 1075000.0, 1200000.0, 2880500.0, 3800000.0]], [\"98178\", [90000.0, 119900.0, 180000.0, 188000.0, 223000.0, 279000.0, 350000.0, 450000.0, 460000.0, 869000.0, 1700000.0]], [\"98188\", [110000.0, 110700.0, 179000.0, 179950.0, 230000.0, 265000.0, 335000.0, 400200.0, 408000.0, 706000.0, 707000.0]], [\"98198\", [95000.0, 120000.0, 174500.0, 175000.0, 216500.0, 265000.0, 340000.0, 455000.0, 475000.0, 950000.0, 1350000.0]], [\"98199\", [323000.0, 334000.0, 419000.0, 425000.0, 535000.0, 689800.0, 950000.0, 1289000.0, 1300000.0, 2160000.0, 3200000.0]]], \"omitted\": 0}, \"columns\": [{\"dtype\": \"str\", \"name\": \"id\"}, {\"dtype\": \"datetime\", \"name\": \"date\"}, {\"dtype\": \"int\", \"name\": \"price\"}, {\"dtype\": \"str\", \"name\": \"bedrooms\"}, {\"dtype\": \"str\", \"name\": \"bathrooms\"}, {\"dtype\": \"int\", \"name\": \"sqft_living\"}, {\"dtype\": \"int\", \"name\": \"sqft_lot\"}, {\"dtype\": \"str\", \"name\": \"floors\"}, {\"dtype\": \"int\", \"name\": \"waterfront\"}, {\"dtype\": \"int\", \"name\": \"view\"}, {\"dtype\": \"int\", \"name\": \"condition\"}, {\"dtype\": \"int\", \"name\": \"grade\"}, {\"dtype\": \"int\", \"name\": \"sqft_above\"}, {\"dtype\": \"int\", \"name\": \"sqft_basement\"}, {\"dtype\": \"int\", \"name\": \"yr_built\"}, {\"dtype\": \"int\", \"name\": \"yr_renovated\"}, {\"dtype\": \"str\", \"name\": \"zipcode\"}, {\"dtype\": \"float\", \"name\": \"lat\"}, {\"dtype\": \"float\", \"name\": \"long\"}, {\"dtype\": \"float\", \"name\": \"sqft_living15\"}, {\"dtype\": \"float\", \"name\": \"sqft_lot15\"}]}, e);\n",
       "                });\n",
       "            })();\n",
       "        "
      ]
     },
     "metadata": {},
     "output_type": "display_data"
    }
   ],
   "source": [
    "graphlab.canvas.set_target('ipynb')\n",
    "sales.show(view='BoxWhisker Plot',x='zipcode',y='price')"
   ]
  },
  {
   "cell_type": "code",
   "execution_count": null,
   "metadata": {
    "collapsed": true
   },
   "outputs": [],
   "source": []
  }
 ],
 "metadata": {
  "kernelspec": {
   "display_name": "Python 2",
   "language": "python",
   "name": "python2"
  },
  "language_info": {
   "codemirror_mode": {
    "name": "ipython",
    "version": 2
   },
   "file_extension": ".py",
   "mimetype": "text/x-python",
   "name": "python",
   "nbconvert_exporter": "python",
   "pygments_lexer": "ipython2",
   "version": "2.7.12"
  }
 },
 "nbformat": 4,
 "nbformat_minor": 0
}
